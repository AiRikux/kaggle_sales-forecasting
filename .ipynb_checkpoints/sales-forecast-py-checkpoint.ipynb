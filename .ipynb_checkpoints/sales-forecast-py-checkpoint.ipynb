{
 "cells": [
  {
   "cell_type": "markdown",
   "id": "1fcc902b",
   "metadata": {},
   "source": [
    "# Import Libraries"
   ]
  },
  {
   "cell_type": "code",
   "execution_count": 77,
   "id": "9d61de94",
   "metadata": {},
   "outputs": [],
   "source": [
    "import pandas as pd\n",
    "import matplotlib.pyplot as plt\n",
    "from datetime import datetime\n",
    "from sklearn.preprocessing import LabelEncoder\n",
    "import numpy as np\n",
    "from sklearn.model_selection import train_test_split\n",
    "from sklearn.linear_model import LinearRegression\n",
    "from sklearn import linear_model\n",
    "import statsmodels.api as sm"
   ]
  },
  {
   "cell_type": "markdown",
   "id": "1a8a01ba",
   "metadata": {},
   "source": [
    "# Import Files"
   ]
  },
  {
   "cell_type": "code",
   "execution_count": 54,
   "id": "41b8d24c",
   "metadata": {},
   "outputs": [],
   "source": [
    "test = pd.read_csv(\"data/test.csv\")\n",
    "train = pd.read_csv(\"data/train.csv\")\n",
    "sample = pd.read_csv(\"data/sample_submission.csv\")"
   ]
  },
  {
   "cell_type": "markdown",
   "id": "b7ce807d",
   "metadata": {},
   "source": [
    "# Functions"
   ]
  },
  {
   "cell_type": "code",
   "execution_count": 3,
   "id": "e59deccf",
   "metadata": {},
   "outputs": [],
   "source": [
    "# to calculate score\n",
    "def smape(a, f):\n",
    "    return 1/len(a) * np.sum(2 * np.abs(f-a) / (np.abs(a) + np.abs(f))*100)"
   ]
  },
  {
   "cell_type": "code",
   "execution_count": 4,
   "id": "bcc68958",
   "metadata": {},
   "outputs": [],
   "source": [
    "# make to csv\n",
    "def export_me(model, testz, name):\n",
    "    result = pd.DataFrame({\"id\": range(1,len(testz)+1), \"sales\": model.predict(testz)})\n",
    "    result.to_csv(name+\".csv\", index=False)\n",
    "    return None"
   ]
  },
  {
   "cell_type": "markdown",
   "id": "e31cb7d8",
   "metadata": {},
   "source": [
    "# Explore Data"
   ]
  },
  {
   "cell_type": "code",
   "execution_count": 5,
   "id": "0e1e06b4",
   "metadata": {},
   "outputs": [
    {
     "data": {
      "text/html": [
       "<div>\n",
       "<style scoped>\n",
       "    .dataframe tbody tr th:only-of-type {\n",
       "        vertical-align: middle;\n",
       "    }\n",
       "\n",
       "    .dataframe tbody tr th {\n",
       "        vertical-align: top;\n",
       "    }\n",
       "\n",
       "    .dataframe thead th {\n",
       "        text-align: right;\n",
       "    }\n",
       "</style>\n",
       "<table border=\"1\" class=\"dataframe\">\n",
       "  <thead>\n",
       "    <tr style=\"text-align: right;\">\n",
       "      <th></th>\n",
       "      <th>Item</th>\n",
       "      <th>Sales</th>\n",
       "    </tr>\n",
       "  </thead>\n",
       "  <tbody>\n",
       "    <tr>\n",
       "      <th>count</th>\n",
       "      <td>821000.000000</td>\n",
       "      <td>821000.000000</td>\n",
       "    </tr>\n",
       "    <tr>\n",
       "      <th>mean</th>\n",
       "      <td>25.500000</td>\n",
       "      <td>51.225683</td>\n",
       "    </tr>\n",
       "    <tr>\n",
       "      <th>std</th>\n",
       "      <td>14.430878</td>\n",
       "      <td>28.208462</td>\n",
       "    </tr>\n",
       "    <tr>\n",
       "      <th>min</th>\n",
       "      <td>1.000000</td>\n",
       "      <td>0.000000</td>\n",
       "    </tr>\n",
       "    <tr>\n",
       "      <th>25%</th>\n",
       "      <td>13.000000</td>\n",
       "      <td>29.000000</td>\n",
       "    </tr>\n",
       "    <tr>\n",
       "      <th>50%</th>\n",
       "      <td>25.500000</td>\n",
       "      <td>46.000000</td>\n",
       "    </tr>\n",
       "    <tr>\n",
       "      <th>75%</th>\n",
       "      <td>38.000000</td>\n",
       "      <td>68.000000</td>\n",
       "    </tr>\n",
       "    <tr>\n",
       "      <th>max</th>\n",
       "      <td>50.000000</td>\n",
       "      <td>214.000000</td>\n",
       "    </tr>\n",
       "  </tbody>\n",
       "</table>\n",
       "</div>"
      ],
      "text/plain": [
       "                Item          Sales\n",
       "count  821000.000000  821000.000000\n",
       "mean       25.500000      51.225683\n",
       "std        14.430878      28.208462\n",
       "min         1.000000       0.000000\n",
       "25%        13.000000      29.000000\n",
       "50%        25.500000      46.000000\n",
       "75%        38.000000      68.000000\n",
       "max        50.000000     214.000000"
      ]
     },
     "execution_count": 5,
     "metadata": {},
     "output_type": "execute_result"
    }
   ],
   "source": [
    "train.describe()"
   ]
  },
  {
   "cell_type": "code",
   "execution_count": 6,
   "id": "17d6e324",
   "metadata": {},
   "outputs": [
    {
     "data": {
      "text/plain": [
       "Date     object\n",
       "Store    object\n",
       "Item      int64\n",
       "Sales     int64\n",
       "dtype: object"
      ]
     },
     "execution_count": 6,
     "metadata": {},
     "output_type": "execute_result"
    }
   ],
   "source": [
    "train.dtypes"
   ]
  },
  {
   "cell_type": "code",
   "execution_count": 7,
   "id": "ada1966a",
   "metadata": {},
   "outputs": [
    {
     "data": {
      "text/plain": [
       "Index(['Date', 'Store', 'Item', 'Sales'], dtype='object')"
      ]
     },
     "execution_count": 7,
     "metadata": {},
     "output_type": "execute_result"
    }
   ],
   "source": [
    "train.columns"
   ]
  },
  {
   "cell_type": "code",
   "execution_count": 8,
   "id": "8c8ed7cc",
   "metadata": {},
   "outputs": [
    {
     "data": {
      "text/plain": [
       "Index(['Date', 'Store', 'Item'], dtype='object')"
      ]
     },
     "execution_count": 8,
     "metadata": {},
     "output_type": "execute_result"
    }
   ],
   "source": [
    "test.columns"
   ]
  },
  {
   "cell_type": "code",
   "execution_count": 9,
   "id": "53969f14",
   "metadata": {},
   "outputs": [
    {
     "name": "stdout",
     "output_type": "stream",
     "text": [
      "821000\n",
      "92000\n"
     ]
    }
   ],
   "source": [
    "print(len(train))\n",
    "print(len(test))"
   ]
  },
  {
   "cell_type": "code",
   "execution_count": 10,
   "id": "29834bec",
   "metadata": {},
   "outputs": [
    {
     "name": "stdout",
     "output_type": "stream",
     "text": [
      "1-Apr-17 9-Sep-20\n",
      "1-Aug-21 9-Sep-21\n"
     ]
    }
   ],
   "source": [
    "print(train.Date.min(), train.Date.max())\n",
    "print(test.Date.min(), test.Date.max())"
   ]
  },
  {
   "cell_type": "code",
   "execution_count": 11,
   "id": "6243d775",
   "metadata": {},
   "outputs": [
    {
     "name": "stdout",
     "output_type": "stream",
     "text": [
      "['KMart' 'Target' 'Coles' 'Woolies' 'BigW' 'Aldi' 'Asian SuperMart'\n",
      " 'Big Savers' 'Costco' 'SupaIGA']\n",
      "['KMart' 'Target' 'Coles' 'Woolies' 'BigW' 'Aldi' 'Asian SuperMart'\n",
      " 'Big Savers' 'Costco' 'SupaIGA']\n"
     ]
    }
   ],
   "source": [
    "print(train.Store.unique())\n",
    "print(test.Store.unique())"
   ]
  },
  {
   "cell_type": "code",
   "execution_count": 12,
   "id": "358f0355",
   "metadata": {},
   "outputs": [
    {
     "data": {
      "text/plain": [
       "datetime.datetime(2017, 1, 1, 0, 0)"
      ]
     },
     "execution_count": 12,
     "metadata": {},
     "output_type": "execute_result"
    }
   ],
   "source": [
    "datetime.strptime(train[\"Date\"][0], \"%d-%b-%y\")"
   ]
  },
  {
   "cell_type": "markdown",
   "id": "90a789c3",
   "metadata": {},
   "source": [
    "# Preprocessing\n",
    "\n",
    "Make Date into separate features"
   ]
  },
  {
   "cell_type": "code",
   "execution_count": 55,
   "id": "18ec85cf",
   "metadata": {},
   "outputs": [],
   "source": [
    "train[\"Date\"] = pd.to_datetime(train[\"Date\"], format=\"%d-%b-%y\")\n",
    "train[\"Year\"] = train[\"Date\"].dt.year\n",
    "train[\"Month\"] = train[\"Date\"].dt.month\n",
    "train[\"Day\"] = train[\"Date\"].dt.day\n",
    "train[\"Store\"] = LabelEncoder().fit(train[\"Store\"]).transform(train[\"Store\"])"
   ]
  },
  {
   "cell_type": "markdown",
   "id": "1665b841",
   "metadata": {},
   "source": [
    "# Trial 1\n",
    "\n",
    "If we uncategorize it it would make a lower SMAPE score"
   ]
  },
  {
   "cell_type": "code",
   "execution_count": null,
   "id": "589a814b",
   "metadata": {},
   "outputs": [],
   "source": [
    "#train1[\"Item\"] = train[\"Item\"].astype(\"category\")\n",
    "#train1[\"Store\"] = train[\"Store\"].astype(\"category\")"
   ]
  },
  {
   "cell_type": "code",
   "execution_count": 45,
   "id": "66007461",
   "metadata": {},
   "outputs": [],
   "source": [
    "# split feature and target\n",
    "features = train[[\"Store\", \"Item\", \"Year\", \"Month\", \"Day\"]]\n",
    "target = train[\"Sales\"]"
   ]
  },
  {
   "cell_type": "code",
   "execution_count": 46,
   "id": "add369ac",
   "metadata": {},
   "outputs": [],
   "source": [
    "# Split the data \n",
    "\n",
    "X_train,X_test,y_train,y_test = train_test_split(features,target,test_size = 0.2)"
   ]
  },
  {
   "cell_type": "code",
   "execution_count": 47,
   "id": "36d70c83",
   "metadata": {},
   "outputs": [],
   "source": [
    "# Try different Algorithms \n",
    "\n",
    "model = LinearRegression().fit(X_train,y_train)"
   ]
  },
  {
   "cell_type": "code",
   "execution_count": 48,
   "id": "0bf12685",
   "metadata": {},
   "outputs": [],
   "source": [
    "predictions = model.predict(X_test)"
   ]
  },
  {
   "cell_type": "code",
   "execution_count": 49,
   "id": "cfd314e2",
   "metadata": {
    "scrolled": true
   },
   "outputs": [
    {
     "data": {
      "text/plain": [
       "44.21461435193209"
      ]
     },
     "execution_count": 49,
     "metadata": {},
     "output_type": "execute_result"
    }
   ],
   "source": [
    "smape(y_test, predictions)"
   ]
  },
  {
   "cell_type": "code",
   "execution_count": 74,
   "id": "782fc1c8",
   "metadata": {},
   "outputs": [],
   "source": [
    "model1 = sm.OLS(y_train, X_train).fit()\n",
    "predictions = model1.predict(X_test)"
   ]
  },
  {
   "cell_type": "code",
   "execution_count": 75,
   "id": "0370fa61",
   "metadata": {},
   "outputs": [
    {
     "data": {
      "text/plain": [
       "45.329908976417684"
      ]
     },
     "execution_count": 75,
     "metadata": {},
     "output_type": "execute_result"
    }
   ],
   "source": [
    "smape(y_test, predictions)"
   ]
  },
  {
   "cell_type": "code",
   "execution_count": 28,
   "id": "d6796786",
   "metadata": {},
   "outputs": [],
   "source": [
    "test[\"Date\"] = pd.to_datetime(test[\"Date\"], format=\"%d-%b-%y\")\n",
    "test[\"Year\"] = test[\"Date\"].dt.year\n",
    "test[\"Month\"] = test[\"Date\"].dt.month\n",
    "test[\"Day\"] = test[\"Date\"].dt.day\n",
    "#test[\"Item\"] = test[\"Item\"].astype(\"category\")\n",
    "test[\"Store\"] = LabelEncoder().fit(test[\"Store\"]).transform(test[\"Store\"])\n",
    "#test[\"Store\"] = test[\"Store\"].astype(\"category\")\n",
    "testz = test[[\"Store\", \"Item\", \"Year\", \"Month\", \"Day\"]]"
   ]
  },
  {
   "cell_type": "markdown",
   "id": "9f319c8a",
   "metadata": {},
   "source": [
    "# Trial 2\n",
    "\n",
    "Change linear regression\n",
    "\n",
    "Choose columns: Store, Item, Year"
   ]
  },
  {
   "cell_type": "code",
   "execution_count": 59,
   "id": "7ff07685",
   "metadata": {},
   "outputs": [
    {
     "data": {
      "text/html": [
       "<div>\n",
       "<style scoped>\n",
       "    .dataframe tbody tr th:only-of-type {\n",
       "        vertical-align: middle;\n",
       "    }\n",
       "\n",
       "    .dataframe tbody tr th {\n",
       "        vertical-align: top;\n",
       "    }\n",
       "\n",
       "    .dataframe thead th {\n",
       "        text-align: right;\n",
       "    }\n",
       "</style>\n",
       "<table border=\"1\" class=\"dataframe\">\n",
       "  <thead>\n",
       "    <tr style=\"text-align: right;\">\n",
       "      <th></th>\n",
       "      <th>Store</th>\n",
       "      <th>Item</th>\n",
       "      <th>Sales</th>\n",
       "      <th>Year</th>\n",
       "      <th>Month</th>\n",
       "      <th>Day</th>\n",
       "    </tr>\n",
       "  </thead>\n",
       "  <tbody>\n",
       "    <tr>\n",
       "      <th>Store</th>\n",
       "      <td>1.000</td>\n",
       "      <td>-0.000</td>\n",
       "      <td>0.207</td>\n",
       "      <td>0.000</td>\n",
       "      <td>-0.000</td>\n",
       "      <td>-0.000</td>\n",
       "    </tr>\n",
       "    <tr>\n",
       "      <th>Item</th>\n",
       "      <td>-0.000</td>\n",
       "      <td>1.000</td>\n",
       "      <td>-0.056</td>\n",
       "      <td>0.000</td>\n",
       "      <td>-0.000</td>\n",
       "      <td>0.000</td>\n",
       "    </tr>\n",
       "    <tr>\n",
       "      <th>Sales</th>\n",
       "      <td>0.207</td>\n",
       "      <td>-0.056</td>\n",
       "      <td>1.000</td>\n",
       "      <td>0.161</td>\n",
       "      <td>0.081</td>\n",
       "      <td>0.003</td>\n",
       "    </tr>\n",
       "    <tr>\n",
       "      <th>Year</th>\n",
       "      <td>0.000</td>\n",
       "      <td>0.000</td>\n",
       "      <td>0.161</td>\n",
       "      <td>1.000</td>\n",
       "      <td>-0.165</td>\n",
       "      <td>-0.002</td>\n",
       "    </tr>\n",
       "    <tr>\n",
       "      <th>Month</th>\n",
       "      <td>-0.000</td>\n",
       "      <td>-0.000</td>\n",
       "      <td>0.081</td>\n",
       "      <td>-0.165</td>\n",
       "      <td>1.000</td>\n",
       "      <td>0.011</td>\n",
       "    </tr>\n",
       "    <tr>\n",
       "      <th>Day</th>\n",
       "      <td>-0.000</td>\n",
       "      <td>0.000</td>\n",
       "      <td>0.003</td>\n",
       "      <td>-0.002</td>\n",
       "      <td>0.011</td>\n",
       "      <td>1.000</td>\n",
       "    </tr>\n",
       "  </tbody>\n",
       "</table>\n",
       "</div>"
      ],
      "text/plain": [
       "       Store   Item  Sales   Year  Month    Day\n",
       "Store  1.000 -0.000  0.207  0.000 -0.000 -0.000\n",
       "Item  -0.000  1.000 -0.056  0.000 -0.000  0.000\n",
       "Sales  0.207 -0.056  1.000  0.161  0.081  0.003\n",
       "Year   0.000  0.000  0.161  1.000 -0.165 -0.002\n",
       "Month -0.000 -0.000  0.081 -0.165  1.000  0.011\n",
       "Day   -0.000  0.000  0.003 -0.002  0.011  1.000"
      ]
     },
     "execution_count": 59,
     "metadata": {},
     "output_type": "execute_result"
    }
   ],
   "source": [
    "round(train.corr(),3)"
   ]
  },
  {
   "cell_type": "code",
   "execution_count": 69,
   "id": "6527cc3f",
   "metadata": {},
   "outputs": [],
   "source": [
    "# split feature and target\n",
    "features = train[[\"Store\", \"Year\"]]\n",
    "target = train[\"Sales\"]\n",
    "\n",
    "# Split the data\n",
    "X_train,X_test,y_train,y_test = train_test_split(features,target,test_size = 0.2)\n",
    "\n",
    "# Try different Algorithms \n",
    "model = LinearRegression().fit(X_train,y_train)\n",
    "\n",
    "predictions = model.predict(X_test)"
   ]
  },
  {
   "cell_type": "code",
   "execution_count": 70,
   "id": "ef809526",
   "metadata": {},
   "outputs": [
    {
     "data": {
      "text/plain": [
       "44.82655673081572"
      ]
     },
     "execution_count": 70,
     "metadata": {},
     "output_type": "execute_result"
    }
   ],
   "source": [
    "smape(y_test, predictions)"
   ]
  },
  {
   "cell_type": "code",
   "execution_count": 21,
   "id": "255681ea",
   "metadata": {},
   "outputs": [
    {
     "data": {
      "text/html": [
       "<div>\n",
       "<style scoped>\n",
       "    .dataframe tbody tr th:only-of-type {\n",
       "        vertical-align: middle;\n",
       "    }\n",
       "\n",
       "    .dataframe tbody tr th {\n",
       "        vertical-align: top;\n",
       "    }\n",
       "\n",
       "    .dataframe thead th {\n",
       "        text-align: right;\n",
       "    }\n",
       "</style>\n",
       "<table border=\"1\" class=\"dataframe\">\n",
       "  <thead>\n",
       "    <tr style=\"text-align: right;\">\n",
       "      <th></th>\n",
       "      <th>Date</th>\n",
       "      <th>Store</th>\n",
       "      <th>Item</th>\n",
       "      <th>Sales</th>\n",
       "      <th>Year</th>\n",
       "      <th>Month</th>\n",
       "      <th>Day</th>\n",
       "    </tr>\n",
       "  </thead>\n",
       "  <tbody>\n",
       "    <tr>\n",
       "      <th>0</th>\n",
       "      <td>2017-01-01</td>\n",
       "      <td>6</td>\n",
       "      <td>1</td>\n",
       "      <td>13</td>\n",
       "      <td>2017</td>\n",
       "      <td>1</td>\n",
       "      <td>1</td>\n",
       "    </tr>\n",
       "    <tr>\n",
       "      <th>1</th>\n",
       "      <td>2017-01-02</td>\n",
       "      <td>6</td>\n",
       "      <td>1</td>\n",
       "      <td>11</td>\n",
       "      <td>2017</td>\n",
       "      <td>1</td>\n",
       "      <td>2</td>\n",
       "    </tr>\n",
       "    <tr>\n",
       "      <th>2</th>\n",
       "      <td>2017-01-03</td>\n",
       "      <td>6</td>\n",
       "      <td>1</td>\n",
       "      <td>14</td>\n",
       "      <td>2017</td>\n",
       "      <td>1</td>\n",
       "      <td>3</td>\n",
       "    </tr>\n",
       "    <tr>\n",
       "      <th>3</th>\n",
       "      <td>2017-01-04</td>\n",
       "      <td>6</td>\n",
       "      <td>1</td>\n",
       "      <td>13</td>\n",
       "      <td>2017</td>\n",
       "      <td>1</td>\n",
       "      <td>4</td>\n",
       "    </tr>\n",
       "    <tr>\n",
       "      <th>4</th>\n",
       "      <td>2017-01-05</td>\n",
       "      <td>6</td>\n",
       "      <td>1</td>\n",
       "      <td>10</td>\n",
       "      <td>2017</td>\n",
       "      <td>1</td>\n",
       "      <td>5</td>\n",
       "    </tr>\n",
       "    <tr>\n",
       "      <th>...</th>\n",
       "      <td>...</td>\n",
       "      <td>...</td>\n",
       "      <td>...</td>\n",
       "      <td>...</td>\n",
       "      <td>...</td>\n",
       "      <td>...</td>\n",
       "      <td>...</td>\n",
       "    </tr>\n",
       "    <tr>\n",
       "      <th>820995</th>\n",
       "      <td>2021-06-26</td>\n",
       "      <td>7</td>\n",
       "      <td>50</td>\n",
       "      <td>82</td>\n",
       "      <td>2021</td>\n",
       "      <td>6</td>\n",
       "      <td>26</td>\n",
       "    </tr>\n",
       "    <tr>\n",
       "      <th>820996</th>\n",
       "      <td>2021-06-27</td>\n",
       "      <td>7</td>\n",
       "      <td>50</td>\n",
       "      <td>83</td>\n",
       "      <td>2021</td>\n",
       "      <td>6</td>\n",
       "      <td>27</td>\n",
       "    </tr>\n",
       "    <tr>\n",
       "      <th>820997</th>\n",
       "      <td>2021-06-28</td>\n",
       "      <td>7</td>\n",
       "      <td>50</td>\n",
       "      <td>91</td>\n",
       "      <td>2021</td>\n",
       "      <td>6</td>\n",
       "      <td>28</td>\n",
       "    </tr>\n",
       "    <tr>\n",
       "      <th>820998</th>\n",
       "      <td>2021-06-29</td>\n",
       "      <td>7</td>\n",
       "      <td>50</td>\n",
       "      <td>122</td>\n",
       "      <td>2021</td>\n",
       "      <td>6</td>\n",
       "      <td>29</td>\n",
       "    </tr>\n",
       "    <tr>\n",
       "      <th>820999</th>\n",
       "      <td>2021-06-30</td>\n",
       "      <td>7</td>\n",
       "      <td>50</td>\n",
       "      <td>112</td>\n",
       "      <td>2021</td>\n",
       "      <td>6</td>\n",
       "      <td>30</td>\n",
       "    </tr>\n",
       "  </tbody>\n",
       "</table>\n",
       "<p>821000 rows × 7 columns</p>\n",
       "</div>"
      ],
      "text/plain": [
       "             Date Store Item  Sales  Year  Month  Day\n",
       "0      2017-01-01     6    1     13  2017      1    1\n",
       "1      2017-01-02     6    1     11  2017      1    2\n",
       "2      2017-01-03     6    1     14  2017      1    3\n",
       "3      2017-01-04     6    1     13  2017      1    4\n",
       "4      2017-01-05     6    1     10  2017      1    5\n",
       "...           ...   ...  ...    ...   ...    ...  ...\n",
       "820995 2021-06-26     7   50     82  2021      6   26\n",
       "820996 2021-06-27     7   50     83  2021      6   27\n",
       "820997 2021-06-28     7   50     91  2021      6   28\n",
       "820998 2021-06-29     7   50    122  2021      6   29\n",
       "820999 2021-06-30     7   50    112  2021      6   30\n",
       "\n",
       "[821000 rows x 7 columns]"
      ]
     },
     "execution_count": 21,
     "metadata": {},
     "output_type": "execute_result"
    }
   ],
   "source": [
    "train"
   ]
  },
  {
   "cell_type": "markdown",
   "id": "2616e7e8",
   "metadata": {},
   "source": [
    "# Trial 3\n",
    "Bayesian Ridge"
   ]
  },
  {
   "cell_type": "code",
   "execution_count": 83,
   "id": "b76d8999",
   "metadata": {},
   "outputs": [],
   "source": [
    "train3 = train\n",
    "train3[\"Item\"] = train[\"Item\"].astype(\"category\")\n",
    "train3[\"Store\"] = train[\"Store\"].astype(\"category\")\n",
    "train3[\"Month\"] = train[\"Month\"].astype(\"category\")\n",
    "train3[\"Day\"] = train[\"Day\"].astype(\"category\")"
   ]
  },
  {
   "cell_type": "code",
   "execution_count": 92,
   "id": "3df043e4",
   "metadata": {},
   "outputs": [],
   "source": [
    "# split feature and target\n",
    "features = train3[[\"Store\", \"Item\", \"Year\", \"Month\", \"Day\"]]\n",
    "target = train3[\"Sales\"]\n",
    "\n",
    "# Split the data\n",
    "X_train,X_test,y_train,y_test = train_test_split(features,target,test_size = 0.2)\n",
    "\n",
    "model3 = linear_model.BayesianRidge().fit(X_train,y_train)\n",
    "\n",
    "prediction3 = np.round(model3.predict(X_test))"
   ]
  },
  {
   "cell_type": "code",
   "execution_count": 93,
   "id": "d4a20688",
   "metadata": {},
   "outputs": [
    {
     "data": {
      "text/plain": [
       "44.13412921949413"
      ]
     },
     "execution_count": 93,
     "metadata": {},
     "output_type": "execute_result"
    }
   ],
   "source": [
    "smape(y_test, prediction3)"
   ]
  },
  {
   "cell_type": "markdown",
   "id": "ae1bd2c4",
   "metadata": {},
   "source": [
    "# Trial 4\n",
    "\n",
    "Bro its multiple linear regression bro"
   ]
  },
  {
   "cell_type": "code",
   "execution_count": 98,
   "id": "5865ad4b",
   "metadata": {},
   "outputs": [],
   "source": [
    "# split feature and target\n",
    "features = train[[\"Store\", \"Item\", \"Year\", \"Month\", \"Day\"]]\n",
    "target = train[\"Sales\"]\n",
    "\n",
    "# Split the data\n",
    "X_train,X_test,y_train,y_test = train_test_split(features,target,test_size = 0.2)\n",
    "\n",
    "# make model\n",
    "X_trainz = sm.add_constant(X_train)\n",
    "model4 = sm.OLS(y_train, X_trainz).fit()\n",
    "\n",
    "X_testz = sm.add_constant(X_test)\n",
    "prediction4 = model4.predict(X_testz)"
   ]
  },
  {
   "cell_type": "code",
   "execution_count": 100,
   "id": "d1072288",
   "metadata": {},
   "outputs": [
    {
     "data": {
      "text/html": [
       "<table class=\"simpletable\">\n",
       "<caption>OLS Regression Results</caption>\n",
       "<tr>\n",
       "  <th>Dep. Variable:</th>          <td>Sales</td>      <th>  R-squared:         </th>  <td>   0.084</td>  \n",
       "</tr>\n",
       "<tr>\n",
       "  <th>Model:</th>                   <td>OLS</td>       <th>  Adj. R-squared:    </th>  <td>   0.084</td>  \n",
       "</tr>\n",
       "<tr>\n",
       "  <th>Method:</th>             <td>Least Squares</td>  <th>  F-statistic:       </th>  <td>1.201e+04</td> \n",
       "</tr>\n",
       "<tr>\n",
       "  <th>Date:</th>             <td>Sun, 03 Oct 2021</td> <th>  Prob (F-statistic):</th>   <td>  0.00</td>   \n",
       "</tr>\n",
       "<tr>\n",
       "  <th>Time:</th>                 <td>09:26:11</td>     <th>  Log-Likelihood:    </th> <td>-3.0967e+06</td>\n",
       "</tr>\n",
       "<tr>\n",
       "  <th>No. Observations:</th>      <td>656800</td>      <th>  AIC:               </th>  <td>6.193e+06</td> \n",
       "</tr>\n",
       "<tr>\n",
       "  <th>Df Residuals:</th>          <td>656794</td>      <th>  BIC:               </th>  <td>6.194e+06</td> \n",
       "</tr>\n",
       "<tr>\n",
       "  <th>Df Model:</th>              <td>     5</td>      <th>                     </th>      <td> </td>     \n",
       "</tr>\n",
       "<tr>\n",
       "  <th>Covariance Type:</th>      <td>nonrobust</td>    <th>                     </th>      <td> </td>     \n",
       "</tr>\n",
       "</table>\n",
       "<table class=\"simpletable\">\n",
       "<tr>\n",
       "    <td></td>       <th>coef</th>     <th>std err</th>      <th>t</th>      <th>P>|t|</th>  <th>[0.025</th>    <th>0.975]</th>  \n",
       "</tr>\n",
       "<tr>\n",
       "  <th>const</th> <td>-7745.1551</td> <td>   51.927</td> <td> -149.156</td> <td> 0.000</td> <td>-7846.930</td> <td>-7643.381</td>\n",
       "</tr>\n",
       "<tr>\n",
       "  <th>Store</th> <td>    2.0268</td> <td>    0.012</td> <td>  174.655</td> <td> 0.000</td> <td>    2.004</td> <td>    2.050</td>\n",
       "</tr>\n",
       "<tr>\n",
       "  <th>Item</th>  <td>   -0.1093</td> <td>    0.002</td> <td>  -47.336</td> <td> 0.000</td> <td>   -0.114</td> <td>   -0.105</td>\n",
       "</tr>\n",
       "<tr>\n",
       "  <th>Year</th>  <td>    3.8559</td> <td>    0.026</td> <td>  149.937</td> <td> 0.000</td> <td>    3.805</td> <td>    3.906</td>\n",
       "</tr>\n",
       "<tr>\n",
       "  <th>Month</th> <td>    0.9190</td> <td>    0.010</td> <td>   93.412</td> <td> 0.000</td> <td>    0.900</td> <td>    0.938</td>\n",
       "</tr>\n",
       "<tr>\n",
       "  <th>Day</th>   <td>    0.0105</td> <td>    0.004</td> <td>    2.768</td> <td> 0.006</td> <td>    0.003</td> <td>    0.018</td>\n",
       "</tr>\n",
       "</table>\n",
       "<table class=\"simpletable\">\n",
       "<tr>\n",
       "  <th>Omnibus:</th>       <td>55234.472</td> <th>  Durbin-Watson:     </th> <td>   2.002</td> \n",
       "</tr>\n",
       "<tr>\n",
       "  <th>Prob(Omnibus):</th>  <td> 0.000</td>   <th>  Jarque-Bera (JB):  </th> <td>70377.437</td>\n",
       "</tr>\n",
       "<tr>\n",
       "  <th>Skew:</th>           <td> 0.768</td>   <th>  Prob(JB):          </th> <td>    0.00</td> \n",
       "</tr>\n",
       "<tr>\n",
       "  <th>Kurtosis:</th>       <td> 3.458</td>   <th>  Cond. No.          </th> <td>3.15e+06</td> \n",
       "</tr>\n",
       "</table><br/><br/>Notes:<br/>[1] Standard Errors assume that the covariance matrix of the errors is correctly specified.<br/>[2] The condition number is large, 3.15e+06. This might indicate that there are<br/>strong multicollinearity or other numerical problems."
      ],
      "text/plain": [
       "<class 'statsmodels.iolib.summary.Summary'>\n",
       "\"\"\"\n",
       "                            OLS Regression Results                            \n",
       "==============================================================================\n",
       "Dep. Variable:                  Sales   R-squared:                       0.084\n",
       "Model:                            OLS   Adj. R-squared:                  0.084\n",
       "Method:                 Least Squares   F-statistic:                 1.201e+04\n",
       "Date:                Sun, 03 Oct 2021   Prob (F-statistic):               0.00\n",
       "Time:                        09:26:11   Log-Likelihood:            -3.0967e+06\n",
       "No. Observations:              656800   AIC:                         6.193e+06\n",
       "Df Residuals:                  656794   BIC:                         6.194e+06\n",
       "Df Model:                           5                                         \n",
       "Covariance Type:            nonrobust                                         \n",
       "==============================================================================\n",
       "                 coef    std err          t      P>|t|      [0.025      0.975]\n",
       "------------------------------------------------------------------------------\n",
       "const      -7745.1551     51.927   -149.156      0.000   -7846.930   -7643.381\n",
       "Store          2.0268      0.012    174.655      0.000       2.004       2.050\n",
       "Item          -0.1093      0.002    -47.336      0.000      -0.114      -0.105\n",
       "Year           3.8559      0.026    149.937      0.000       3.805       3.906\n",
       "Month          0.9190      0.010     93.412      0.000       0.900       0.938\n",
       "Day            0.0105      0.004      2.768      0.006       0.003       0.018\n",
       "==============================================================================\n",
       "Omnibus:                    55234.472   Durbin-Watson:                   2.002\n",
       "Prob(Omnibus):                  0.000   Jarque-Bera (JB):            70377.437\n",
       "Skew:                           0.768   Prob(JB):                         0.00\n",
       "Kurtosis:                       3.458   Cond. No.                     3.15e+06\n",
       "==============================================================================\n",
       "\n",
       "Notes:\n",
       "[1] Standard Errors assume that the covariance matrix of the errors is correctly specified.\n",
       "[2] The condition number is large, 3.15e+06. This might indicate that there are\n",
       "strong multicollinearity or other numerical problems.\n",
       "\"\"\""
      ]
     },
     "execution_count": 100,
     "metadata": {},
     "output_type": "execute_result"
    }
   ],
   "source": [
    "model4.summary()"
   ]
  },
  {
   "cell_type": "code",
   "execution_count": 99,
   "id": "7ec236c1",
   "metadata": {},
   "outputs": [
    {
     "data": {
      "text/plain": [
       "44.18558187742178"
      ]
     },
     "execution_count": 99,
     "metadata": {},
     "output_type": "execute_result"
    }
   ],
   "source": [
    "smape(y_test, prediction4)"
   ]
  },
  {
   "cell_type": "markdown",
   "id": "b119b156",
   "metadata": {},
   "source": [
    "# Trial 5"
   ]
  },
  {
   "cell_type": "code",
   "execution_count": 101,
   "id": "06385976",
   "metadata": {},
   "outputs": [],
   "source": [
    "# split feature and target\n",
    "features = train[[\"Store\", \"Item\", \"Year\", \"Month\", \"Day\"]]\n",
    "target = train[\"Sales\"]\n",
    "\n",
    "from sklearn.preprocessing import MinMaxScaler\n",
    "scaler = MinMaxScaler()\n",
    "\n",
    "# Applying scaler() to all the columns except the 'yes-no' and 'dummy' variables\n",
    "features = scaler.fit_transform(features)\n",
    "\n",
    "# Split the data\n",
    "X_train,X_test,y_train,y_test = train_test_split(features,target,test_size = 0.2)\n",
    "\n",
    "# make model\n",
    "X_trainz = sm.add_constant(X_train)\n",
    "model5 = sm.OLS(y_train, X_trainz).fit()\n",
    "\n",
    "X_testz = sm.add_constant(X_test)\n",
    "prediction5 = model5.predict(X_testz)"
   ]
  },
  {
   "cell_type": "code",
   "execution_count": 102,
   "id": "6f9b1b95",
   "metadata": {},
   "outputs": [
    {
     "data": {
      "text/plain": [
       "44.217504268111625"
      ]
     },
     "execution_count": 102,
     "metadata": {},
     "output_type": "execute_result"
    }
   ],
   "source": [
    "smape(y_test, prediction5)"
   ]
  },
  {
   "cell_type": "markdown",
   "id": "e52cd758",
   "metadata": {},
   "source": [
    "# Trial\n",
    "\n",
    "Try to separate each group"
   ]
  },
  {
   "cell_type": "code",
   "execution_count": null,
   "id": "4e896555",
   "metadata": {},
   "outputs": [],
   "source": [
    "store_list = train.Store.unique()\n",
    "train2 = {}\n",
    "for u in store_list:\n",
    "    train2[u] = train[train[\"Store\"] == u]"
   ]
  },
  {
   "cell_type": "code",
   "execution_count": null,
   "id": "21035b90",
   "metadata": {},
   "outputs": [],
   "source": [
    "train2[\"KMart\"]"
   ]
  },
  {
   "cell_type": "code",
   "execution_count": null,
   "id": "3652636a",
   "metadata": {},
   "outputs": [],
   "source": []
  }
 ],
 "metadata": {
  "kernelspec": {
   "display_name": "Python 3 (ipykernel)",
   "language": "python",
   "name": "python3"
  },
  "language_info": {
   "codemirror_mode": {
    "name": "ipython",
    "version": 3
   },
   "file_extension": ".py",
   "mimetype": "text/x-python",
   "name": "python",
   "nbconvert_exporter": "python",
   "pygments_lexer": "ipython3",
   "version": "3.8.2"
  }
 },
 "nbformat": 4,
 "nbformat_minor": 5
}
