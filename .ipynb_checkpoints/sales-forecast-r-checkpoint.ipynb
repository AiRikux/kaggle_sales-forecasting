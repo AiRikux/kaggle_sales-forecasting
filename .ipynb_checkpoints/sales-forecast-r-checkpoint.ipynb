{
 "cells": [
  {
   "cell_type": "markdown",
   "id": "3b991a0b",
   "metadata": {},
   "source": [
    "# Import Libraries"
   ]
  },
  {
   "cell_type": "code",
   "execution_count": 1,
   "id": "f2911ea3",
   "metadata": {},
   "outputs": [
    {
     "name": "stderr",
     "output_type": "stream",
     "text": [
      "Registered S3 methods overwritten by 'ggplot2':\n",
      "  method         from \n",
      "  [.quosures     rlang\n",
      "  c.quosures     rlang\n",
      "  print.quosures rlang\n",
      "Registered S3 method overwritten by 'rvest':\n",
      "  method            from\n",
      "  read_xml.response xml2\n",
      "── \u001b[1mAttaching packages\u001b[22m ─────────────────────────────────────── tidyverse 1.2.1 ──\n",
      "\u001b[32m✔\u001b[39m \u001b[34mggplot2\u001b[39m 3.1.1       \u001b[32m✔\u001b[39m \u001b[34mpurrr  \u001b[39m 0.3.2  \n",
      "\u001b[32m✔\u001b[39m \u001b[34mtibble \u001b[39m 2.1.1       \u001b[32m✔\u001b[39m \u001b[34mdplyr  \u001b[39m 0.8.0.\u001b[31m1\u001b[39m\n",
      "\u001b[32m✔\u001b[39m \u001b[34mtidyr  \u001b[39m 0.8.3       \u001b[32m✔\u001b[39m \u001b[34mstringr\u001b[39m 1.4.0  \n",
      "\u001b[32m✔\u001b[39m \u001b[34mreadr  \u001b[39m 1.3.1       \u001b[32m✔\u001b[39m \u001b[34mforcats\u001b[39m 0.4.0  \n",
      "── \u001b[1mConflicts\u001b[22m ────────────────────────────────────────── tidyverse_conflicts() ──\n",
      "\u001b[31m✖\u001b[39m \u001b[34mdplyr\u001b[39m::\u001b[32mfilter()\u001b[39m masks \u001b[34mstats\u001b[39m::filter()\n",
      "\u001b[31m✖\u001b[39m \u001b[34mdplyr\u001b[39m::\u001b[32mlag()\u001b[39m    masks \u001b[34mstats\u001b[39m::lag()\n"
     ]
    }
   ],
   "source": [
    "library(\"tidyverse\")\n",
    "library(Metrics)\n",
    "library(mctest)"
   ]
  },
  {
   "cell_type": "markdown",
   "id": "1fbfd500",
   "metadata": {},
   "source": [
    "# Import Files"
   ]
  },
  {
   "cell_type": "code",
   "execution_count": 2,
   "id": "98b843ab",
   "metadata": {},
   "outputs": [
    {
     "name": "stderr",
     "output_type": "stream",
     "text": [
      "Parsed with column specification:\n",
      "cols(\n",
      "  Date = \u001b[31mcol_character()\u001b[39m,\n",
      "  Store = \u001b[31mcol_character()\u001b[39m,\n",
      "  Item = \u001b[32mcol_double()\u001b[39m\n",
      ")\n",
      "Parsed with column specification:\n",
      "cols(\n",
      "  Date = \u001b[31mcol_character()\u001b[39m,\n",
      "  Store = \u001b[31mcol_character()\u001b[39m,\n",
      "  Item = \u001b[32mcol_double()\u001b[39m,\n",
      "  Sales = \u001b[32mcol_double()\u001b[39m\n",
      ")\n",
      "Parsed with column specification:\n",
      "cols(\n",
      "  id = \u001b[32mcol_double()\u001b[39m,\n",
      "  sales = \u001b[32mcol_double()\u001b[39m\n",
      ")\n"
     ]
    }
   ],
   "source": [
    "test = read_csv(\"data/test.csv\")\n",
    "train = read_csv(\"data/train.csv\")\n",
    "sample = read_csv(\"data/sample_submission.csv\")"
   ]
  },
  {
   "cell_type": "markdown",
   "id": "f5f33c37",
   "metadata": {},
   "source": [
    "# Preprocessing"
   ]
  },
  {
   "cell_type": "code",
   "execution_count": 3,
   "id": "0dd4eb37",
   "metadata": {},
   "outputs": [
    {
     "data": {
      "text/html": [
       "<table>\n",
       "<thead><tr><th scope=col>Date</th><th scope=col>Store</th><th scope=col>Item</th><th scope=col>Sales</th></tr></thead>\n",
       "<tbody>\n",
       "\t<tr><td>1-Jan-17</td><td>KMart   </td><td>1       </td><td>13      </td></tr>\n",
       "\t<tr><td>2-Jan-17</td><td>KMart   </td><td>1       </td><td>11      </td></tr>\n",
       "\t<tr><td>3-Jan-17</td><td>KMart   </td><td>1       </td><td>14      </td></tr>\n",
       "\t<tr><td>4-Jan-17</td><td>KMart   </td><td>1       </td><td>13      </td></tr>\n",
       "\t<tr><td>5-Jan-17</td><td>KMart   </td><td>1       </td><td>10      </td></tr>\n",
       "\t<tr><td>6-Jan-17</td><td>KMart   </td><td>1       </td><td>12      </td></tr>\n",
       "</tbody>\n",
       "</table>\n"
      ],
      "text/latex": [
       "\\begin{tabular}{r|llll}\n",
       " Date & Store & Item & Sales\\\\\n",
       "\\hline\n",
       "\t 1-Jan-17 & KMart    & 1        & 13      \\\\\n",
       "\t 2-Jan-17 & KMart    & 1        & 11      \\\\\n",
       "\t 3-Jan-17 & KMart    & 1        & 14      \\\\\n",
       "\t 4-Jan-17 & KMart    & 1        & 13      \\\\\n",
       "\t 5-Jan-17 & KMart    & 1        & 10      \\\\\n",
       "\t 6-Jan-17 & KMart    & 1        & 12      \\\\\n",
       "\\end{tabular}\n"
      ],
      "text/markdown": [
       "\n",
       "| Date | Store | Item | Sales |\n",
       "|---|---|---|---|\n",
       "| 1-Jan-17 | KMart    | 1        | 13       |\n",
       "| 2-Jan-17 | KMart    | 1        | 11       |\n",
       "| 3-Jan-17 | KMart    | 1        | 14       |\n",
       "| 4-Jan-17 | KMart    | 1        | 13       |\n",
       "| 5-Jan-17 | KMart    | 1        | 10       |\n",
       "| 6-Jan-17 | KMart    | 1        | 12       |\n",
       "\n"
      ],
      "text/plain": [
       "  Date     Store Item Sales\n",
       "1 1-Jan-17 KMart 1    13   \n",
       "2 2-Jan-17 KMart 1    11   \n",
       "3 3-Jan-17 KMart 1    14   \n",
       "4 4-Jan-17 KMart 1    13   \n",
       "5 5-Jan-17 KMart 1    10   \n",
       "6 6-Jan-17 KMart 1    12   "
      ]
     },
     "metadata": {},
     "output_type": "display_data"
    }
   ],
   "source": [
    "head(train)"
   ]
  },
  {
   "cell_type": "code",
   "execution_count": 4,
   "id": "3e95377e",
   "metadata": {},
   "outputs": [],
   "source": [
    "train$Date <- as.Date(train$Date, \"%d-%b-%y\")"
   ]
  },
  {
   "cell_type": "code",
   "execution_count": 5,
   "id": "d1533413",
   "metadata": {},
   "outputs": [],
   "source": [
    "train$Day <- format(train$Date, \"%d\")\n",
    "train$Month <- format(train$Date, \"%m\")\n",
    "train$Year <- format(train$Date, \"%Y\")"
   ]
  },
  {
   "cell_type": "code",
   "execution_count": 6,
   "id": "915021dd",
   "metadata": {},
   "outputs": [],
   "source": [
    "train$fStore <- as.numeric(factor(train$Store))"
   ]
  },
  {
   "cell_type": "code",
   "execution_count": 7,
   "id": "bb6431f9",
   "metadata": {},
   "outputs": [
    {
     "data": {
      "text/plain": [
       "      Date               Store                Item          Sales       \n",
       " Min.   :2017-01-01   Length:821000      Min.   : 1.0   Min.   :  0.00  \n",
       " 1st Qu.:2018-02-15   Class :character   1st Qu.:13.0   1st Qu.: 29.00  \n",
       " Median :2019-04-01   Mode  :character   Median :25.5   Median : 46.00  \n",
       " Mean   :2019-04-01                      Mean   :25.5   Mean   : 51.23  \n",
       " 3rd Qu.:2020-05-16                      3rd Qu.:38.0   3rd Qu.: 68.00  \n",
       " Max.   :2021-06-30                      Max.   :50.0   Max.   :214.00  \n",
       "     Day               Month               Year               fStore    \n",
       " Length:821000      Length:821000      Length:821000      Min.   : 1.0  \n",
       " Class :character   Class :character   Class :character   1st Qu.: 3.0  \n",
       " Mode  :character   Mode  :character   Mode  :character   Median : 5.5  \n",
       "                                                          Mean   : 5.5  \n",
       "                                                          3rd Qu.: 8.0  \n",
       "                                                          Max.   :10.0  "
      ]
     },
     "metadata": {},
     "output_type": "display_data"
    }
   ],
   "source": [
    "summary(train)"
   ]
  },
  {
   "cell_type": "markdown",
   "id": "37967cb8",
   "metadata": {},
   "source": [
    "# Trial 1"
   ]
  },
  {
   "cell_type": "code",
   "execution_count": 8,
   "id": "1dca22b7",
   "metadata": {
    "scrolled": false
   },
   "outputs": [
    {
     "data": {
      "text/plain": [
       "\n",
       "Call:\n",
       "lm(formula = Sales ~ ., data = train)\n",
       "\n",
       "Residuals:\n",
       "    Min      1Q  Median      3Q     Max \n",
       "-70.500 -18.255  -1.235  16.201 127.907 \n",
       "\n",
       "Coefficients: (1 not defined because of singularities)\n",
       "                       Estimate Std. Error t value Pr(>|t|)    \n",
       "(Intercept)          -3.261e+04  2.937e+03 -11.102  < 2e-16 ***\n",
       "Date                  1.900e+00  1.711e-01  11.108  < 2e-16 ***\n",
       "StoreAsian SuperMart -3.302e+00  1.187e-01 -27.823  < 2e-16 ***\n",
       "StoreBig Savers       2.393e+01  1.187e-01 201.628  < 2e-16 ***\n",
       "StoreBigW             4.036e-02  1.187e-01   0.340    0.734    \n",
       "StoreColes            1.942e+01  1.187e-01 163.592  < 2e-16 ***\n",
       "StoreCostco           1.501e+01  1.187e-01 126.469  < 2e-16 ***\n",
       "StoreKMart            7.378e+00  1.187e-01  62.160  < 2e-16 ***\n",
       "StoreSupaIGA          1.862e+01  1.187e-01 156.837  < 2e-16 ***\n",
       "StoreTarget           2.676e+01  1.187e-01 225.438  < 2e-16 ***\n",
       "StoreWoolies          1.487e+01  1.187e-01 125.286  < 2e-16 ***\n",
       "Item                 -1.096e-01  1.839e-03 -59.602  < 2e-16 ***\n",
       "Day02                -1.660e+00  2.685e-01  -6.181 6.38e-10 ***\n",
       "Day03                -3.406e+00  3.999e-01  -8.516  < 2e-16 ***\n",
       "Day04                -5.410e+00  5.534e-01  -9.775  < 2e-16 ***\n",
       "Day05                -7.019e+00  7.150e-01  -9.817  < 2e-16 ***\n",
       "Day06                -9.119e+00  8.802e-01 -10.361  < 2e-16 ***\n",
       "Day07                -1.111e+01  1.047e+00 -10.609  < 2e-16 ***\n",
       "Day08                -1.319e+01  1.215e+00 -10.851  < 2e-16 ***\n",
       "Day09                -1.504e+01  1.384e+00 -10.866  < 2e-16 ***\n",
       "Day10                -1.672e+01  1.554e+00 -10.759  < 2e-16 ***\n",
       "Day11                -1.868e+01  1.723e+00 -10.839  < 2e-16 ***\n",
       "Day12                -2.039e+01  1.893e+00 -10.768  < 2e-16 ***\n",
       "Day13                -2.246e+01  2.064e+00 -10.883  < 2e-16 ***\n",
       "Day14                -2.428e+01  2.234e+00 -10.868  < 2e-16 ***\n",
       "Day15                -2.654e+01  2.404e+00 -11.038  < 2e-16 ***\n",
       "Day16                -2.829e+01  2.575e+00 -10.987  < 2e-16 ***\n",
       "Day17                -2.996e+01  2.745e+00 -10.912  < 2e-16 ***\n",
       "Day18                -3.206e+01  2.916e+00 -10.996  < 2e-16 ***\n",
       "Day19                -3.358e+01  3.087e+00 -10.879  < 2e-16 ***\n",
       "Day20                -3.574e+01  3.257e+00 -10.972  < 2e-16 ***\n",
       "Day21                -3.757e+01  3.428e+00 -10.959  < 2e-16 ***\n",
       "Day22                -3.979e+01  3.599e+00 -11.057  < 2e-16 ***\n",
       "Day23                -4.167e+01  3.770e+00 -11.053  < 2e-16 ***\n",
       "Day24                -4.334e+01  3.941e+00 -10.999  < 2e-16 ***\n",
       "Day25                -4.531e+01  4.112e+00 -11.021  < 2e-16 ***\n",
       "Day26                -4.687e+01  4.282e+00 -10.944  < 2e-16 ***\n",
       "Day27                -4.910e+01  4.453e+00 -11.025  < 2e-16 ***\n",
       "Day28                -5.092e+01  4.624e+00 -11.012  < 2e-16 ***\n",
       "Day29                -5.338e+01  4.793e+00 -11.137  < 2e-16 ***\n",
       "Day30                -5.494e+01  4.966e+00 -11.062  < 2e-16 ***\n",
       "Day31                -5.586e+01  5.139e+00 -10.871  < 2e-16 ***\n",
       "Month02              -5.507e+01  5.305e+00 -10.383  < 2e-16 ***\n",
       "Month03              -1.007e+02  1.013e+01  -9.944  < 2e-16 ***\n",
       "Month04              -1.518e+02  1.543e+01  -9.834  < 2e-16 ***\n",
       "Month05              -2.048e+02  2.057e+01  -9.960  < 2e-16 ***\n",
       "Month06              -2.598e+02  2.587e+01 -10.044  < 2e-16 ***\n",
       "Month07              -3.135e+02  3.101e+01 -10.112  < 2e-16 ***\n",
       "Month08              -3.800e+02  3.631e+01 -10.465  < 2e-16 ***\n",
       "Month09              -4.429e+02  4.161e+01 -10.644  < 2e-16 ***\n",
       "Month10              -5.036e+02  4.675e+01 -10.773  < 2e-16 ***\n",
       "Month11              -5.586e+02  5.205e+01 -10.731  < 2e-16 ***\n",
       "Month12              -6.312e+02  5.718e+01 -11.037  < 2e-16 ***\n",
       "Year2018             -6.871e+02  6.245e+01 -11.003  < 2e-16 ***\n",
       "Year2019             -1.379e+03  1.249e+02 -11.038  < 2e-16 ***\n",
       "Year2020             -2.070e+03  1.875e+02 -11.038  < 2e-16 ***\n",
       "Year2021             -2.762e+03  2.500e+02 -11.048  < 2e-16 ***\n",
       "fStore                       NA         NA      NA       NA    \n",
       "---\n",
       "Signif. codes:  0 ‘***’ 0.001 ‘**’ 0.01 ‘*’ 0.05 ‘.’ 0.1 ‘ ’ 1\n",
       "\n",
       "Residual standard error: 24.05 on 820943 degrees of freedom\n",
       "Multiple R-squared:  0.2733,\tAdjusted R-squared:  0.2732 \n",
       "F-statistic:  5512 on 56 and 820943 DF,  p-value: < 2.2e-16\n"
      ]
     },
     "metadata": {},
     "output_type": "display_data"
    }
   ],
   "source": [
    "trial1 <- lm(Sales ~ ., data = train)\n",
    "summary(trial1)"
   ]
  },
  {
   "cell_type": "code",
   "execution_count": 9,
   "id": "35d204e5",
   "metadata": {},
   "outputs": [
    {
     "name": "stderr",
     "output_type": "stream",
     "text": [
      "Warning message in predict.lm(trial1, test1):\n",
      "“prediction from a rank-deficient fit may be misleading”"
     ]
    },
    {
     "data": {
      "text/html": [
       "0.405306863988401"
      ],
      "text/latex": [
       "0.405306863988401"
      ],
      "text/markdown": [
       "0.405306863988401"
      ],
      "text/plain": [
       "[1] 0.4053069"
      ]
     },
     "metadata": {},
     "output_type": "display_data"
    }
   ],
   "source": [
    "## 75% of the sample size\n",
    "smp_size <- floor(0.75 * nrow(train))\n",
    "\n",
    "## set the seed to make your partition reproducible\n",
    "set.seed(123)\n",
    "train_ind <- sample(seq_len(nrow(train)), size = smp_size)\n",
    "\n",
    "train1z <- train[train_ind, ]\n",
    "test1 <- train[-train_ind, ]\n",
    "\n",
    "forecast1 <- predict(trial1, test1)\n",
    "\n",
    "smape(test1$Sales, forecast1)"
   ]
  },
  {
   "cell_type": "code",
   "execution_count": 10,
   "id": "df041683",
   "metadata": {},
   "outputs": [
    {
     "data": {
      "text/html": [
       "<dl class=dl-horizontal>\n",
       "\t<dt>1</dt>\n",
       "\t\t<dd>24.6637850859686</dd>\n",
       "\t<dt>2</dt>\n",
       "\t\t<dd>25.2464517526422</dd>\n",
       "\t<dt>3</dt>\n",
       "\t\t<dd>24.9566369378283</dd>\n",
       "\t<dt>4</dt>\n",
       "\t\t<dd>24.7786369378269</dd>\n",
       "\t<dt>5</dt>\n",
       "\t\t<dd>24.9886739748633</dd>\n",
       "\t<dt>6</dt>\n",
       "\t\t<dd>25.0129332341233</dd>\n",
       "</dl>\n"
      ],
      "text/latex": [
       "\\begin{description*}\n",
       "\\item[1] 24.6637850859686\n",
       "\\item[2] 25.2464517526422\n",
       "\\item[3] 24.9566369378283\n",
       "\\item[4] 24.7786369378269\n",
       "\\item[5] 24.9886739748633\n",
       "\\item[6] 25.0129332341233\n",
       "\\end{description*}\n"
      ],
      "text/markdown": [
       "1\n",
       ":   24.66378508596862\n",
       ":   25.24645175264223\n",
       ":   24.95663693782834\n",
       ":   24.77863693782695\n",
       ":   24.98867397486336\n",
       ":   25.0129332341233\n",
       "\n"
      ],
      "text/plain": [
       "       1        2        3        4        5        6 \n",
       "24.66379 25.24645 24.95664 24.77864 24.98867 25.01293 "
      ]
     },
     "metadata": {},
     "output_type": "display_data"
    }
   ],
   "source": [
    "head(forecast1)"
   ]
  },
  {
   "cell_type": "code",
   "execution_count": 11,
   "id": "0cbea6a4",
   "metadata": {},
   "outputs": [
    {
     "data": {
      "text/html": [
       "<table>\n",
       "<thead><tr><th scope=col>Date</th><th scope=col>Store</th><th scope=col>Item</th><th scope=col>Sales</th><th scope=col>Day</th><th scope=col>Month</th><th scope=col>Year</th><th scope=col>fStore</th></tr></thead>\n",
       "<tbody>\n",
       "\t<tr><td>2017-01-01</td><td>KMart     </td><td>1         </td><td>13        </td><td>01        </td><td>01        </td><td>2017      </td><td>7         </td></tr>\n",
       "\t<tr><td>2017-01-05</td><td>KMart     </td><td>1         </td><td>10        </td><td>05        </td><td>01        </td><td>2017      </td><td>7         </td></tr>\n",
       "\t<tr><td>2017-01-07</td><td>KMart     </td><td>1         </td><td>10        </td><td>07        </td><td>01        </td><td>2017      </td><td>7         </td></tr>\n",
       "\t<tr><td>2017-01-08</td><td>KMart     </td><td>1         </td><td> 9        </td><td>08        </td><td>01        </td><td>2017      </td><td>7         </td></tr>\n",
       "\t<tr><td>2017-01-11</td><td>KMart     </td><td>1         </td><td> 9        </td><td>11        </td><td>01        </td><td>2017      </td><td>7         </td></tr>\n",
       "\t<tr><td>2017-01-13</td><td>KMart     </td><td>1         </td><td>10        </td><td>13        </td><td>01        </td><td>2017      </td><td>7         </td></tr>\n",
       "</tbody>\n",
       "</table>\n"
      ],
      "text/latex": [
       "\\begin{tabular}{r|llllllll}\n",
       " Date & Store & Item & Sales & Day & Month & Year & fStore\\\\\n",
       "\\hline\n",
       "\t 2017-01-01 & KMart      & 1          & 13         & 01         & 01         & 2017       & 7         \\\\\n",
       "\t 2017-01-05 & KMart      & 1          & 10         & 05         & 01         & 2017       & 7         \\\\\n",
       "\t 2017-01-07 & KMart      & 1          & 10         & 07         & 01         & 2017       & 7         \\\\\n",
       "\t 2017-01-08 & KMart      & 1          &  9         & 08         & 01         & 2017       & 7         \\\\\n",
       "\t 2017-01-11 & KMart      & 1          &  9         & 11         & 01         & 2017       & 7         \\\\\n",
       "\t 2017-01-13 & KMart      & 1          & 10         & 13         & 01         & 2017       & 7         \\\\\n",
       "\\end{tabular}\n"
      ],
      "text/markdown": [
       "\n",
       "| Date | Store | Item | Sales | Day | Month | Year | fStore |\n",
       "|---|---|---|---|---|---|---|---|\n",
       "| 2017-01-01 | KMart      | 1          | 13         | 01         | 01         | 2017       | 7          |\n",
       "| 2017-01-05 | KMart      | 1          | 10         | 05         | 01         | 2017       | 7          |\n",
       "| 2017-01-07 | KMart      | 1          | 10         | 07         | 01         | 2017       | 7          |\n",
       "| 2017-01-08 | KMart      | 1          |  9         | 08         | 01         | 2017       | 7          |\n",
       "| 2017-01-11 | KMart      | 1          |  9         | 11         | 01         | 2017       | 7          |\n",
       "| 2017-01-13 | KMart      | 1          | 10         | 13         | 01         | 2017       | 7          |\n",
       "\n"
      ],
      "text/plain": [
       "  Date       Store Item Sales Day Month Year fStore\n",
       "1 2017-01-01 KMart 1    13    01  01    2017 7     \n",
       "2 2017-01-05 KMart 1    10    05  01    2017 7     \n",
       "3 2017-01-07 KMart 1    10    07  01    2017 7     \n",
       "4 2017-01-08 KMart 1     9    08  01    2017 7     \n",
       "5 2017-01-11 KMart 1     9    11  01    2017 7     \n",
       "6 2017-01-13 KMart 1    10    13  01    2017 7     "
      ]
     },
     "metadata": {},
     "output_type": "display_data"
    }
   ],
   "source": [
    "head(test1)"
   ]
  },
  {
   "cell_type": "code",
   "execution_count": 12,
   "id": "dad30d82",
   "metadata": {},
   "outputs": [
    {
     "name": "stderr",
     "output_type": "stream",
     "text": [
      "Warning message in predict.lm(trial1, slice(train, 1:10)):\n",
      "“prediction from a rank-deficient fit may be misleading”"
     ]
    },
    {
     "data": {
      "text/html": [
       "<dl class=dl-horizontal>\n",
       "\t<dt>1</dt>\n",
       "\t\t<dd>24.6637850859686</dd>\n",
       "\t<dt>2</dt>\n",
       "\t\t<dd>24.9044887896799</dd>\n",
       "\t<dt>3</dt>\n",
       "\t\t<dd>25.0591554563451</dd>\n",
       "\t<dt>4</dt>\n",
       "\t\t<dd>24.9555999007918</dd>\n",
       "\t<dt>5</dt>\n",
       "\t\t<dd>25.2464517526422</dd>\n",
       "\t<dt>6</dt>\n",
       "\t\t<dd>25.0472295304187</dd>\n",
       "\t<dt>7</dt>\n",
       "\t\t<dd>24.9566369378283</dd>\n",
       "\t<dt>8</dt>\n",
       "\t\t<dd>24.7786369378269</dd>\n",
       "\t<dt>9</dt>\n",
       "\t\t<dd>24.8254147156068</dd>\n",
       "\t<dt>10</dt>\n",
       "\t\t<dd>25.0520813822721</dd>\n",
       "</dl>\n"
      ],
      "text/latex": [
       "\\begin{description*}\n",
       "\\item[1] 24.6637850859686\n",
       "\\item[2] 24.9044887896799\n",
       "\\item[3] 25.0591554563451\n",
       "\\item[4] 24.9555999007918\n",
       "\\item[5] 25.2464517526422\n",
       "\\item[6] 25.0472295304187\n",
       "\\item[7] 24.9566369378283\n",
       "\\item[8] 24.7786369378269\n",
       "\\item[9] 24.8254147156068\n",
       "\\item[10] 25.0520813822721\n",
       "\\end{description*}\n"
      ],
      "text/markdown": [
       "1\n",
       ":   24.66378508596862\n",
       ":   24.90448878967993\n",
       ":   25.05915545634514\n",
       ":   24.95559990079185\n",
       ":   25.24645175264226\n",
       ":   25.04722953041877\n",
       ":   24.95663693782838\n",
       ":   24.77863693782699\n",
       ":   24.825414715606810\n",
       ":   25.0520813822721\n",
       "\n"
      ],
      "text/plain": [
       "       1        2        3        4        5        6        7        8 \n",
       "24.66379 24.90449 25.05916 24.95560 25.24645 25.04723 24.95664 24.77864 \n",
       "       9       10 \n",
       "24.82541 25.05208 "
      ]
     },
     "metadata": {},
     "output_type": "display_data"
    }
   ],
   "source": [
    "predict(trial1, slice(train, 1:10))"
   ]
  },
  {
   "cell_type": "code",
   "execution_count": 13,
   "id": "1c45a819",
   "metadata": {},
   "outputs": [
    {
     "data": {
      "text/html": [
       "<table>\n",
       "<thead><tr><th scope=col>Store</th><th scope=col>Item</th><th scope=col>Day</th><th scope=col>Month</th><th scope=col>Year</th></tr></thead>\n",
       "<tbody>\n",
       "\t<tr><td>KMart</td><td>1    </td><td>01   </td><td>01   </td><td>2017 </td></tr>\n",
       "\t<tr><td>KMart</td><td>1    </td><td>05   </td><td>01   </td><td>2017 </td></tr>\n",
       "\t<tr><td>KMart</td><td>1    </td><td>07   </td><td>01   </td><td>2017 </td></tr>\n",
       "\t<tr><td>KMart</td><td>1    </td><td>08   </td><td>01   </td><td>2017 </td></tr>\n",
       "\t<tr><td>KMart</td><td>1    </td><td>11   </td><td>01   </td><td>2017 </td></tr>\n",
       "\t<tr><td>KMart</td><td>1    </td><td>13   </td><td>01   </td><td>2017 </td></tr>\n",
       "\t<tr><td>KMart</td><td>1    </td><td>14   </td><td>01   </td><td>2017 </td></tr>\n",
       "\t<tr><td>KMart</td><td>1    </td><td>22   </td><td>01   </td><td>2017 </td></tr>\n",
       "\t<tr><td>KMart</td><td>1    </td><td>24   </td><td>01   </td><td>2017 </td></tr>\n",
       "\t<tr><td>KMart</td><td>1    </td><td>27   </td><td>01   </td><td>2017 </td></tr>\n",
       "</tbody>\n",
       "</table>\n"
      ],
      "text/latex": [
       "\\begin{tabular}{r|lllll}\n",
       " Store & Item & Day & Month & Year\\\\\n",
       "\\hline\n",
       "\t KMart & 1     & 01    & 01    & 2017 \\\\\n",
       "\t KMart & 1     & 05    & 01    & 2017 \\\\\n",
       "\t KMart & 1     & 07    & 01    & 2017 \\\\\n",
       "\t KMart & 1     & 08    & 01    & 2017 \\\\\n",
       "\t KMart & 1     & 11    & 01    & 2017 \\\\\n",
       "\t KMart & 1     & 13    & 01    & 2017 \\\\\n",
       "\t KMart & 1     & 14    & 01    & 2017 \\\\\n",
       "\t KMart & 1     & 22    & 01    & 2017 \\\\\n",
       "\t KMart & 1     & 24    & 01    & 2017 \\\\\n",
       "\t KMart & 1     & 27    & 01    & 2017 \\\\\n",
       "\\end{tabular}\n"
      ],
      "text/markdown": [
       "\n",
       "| Store | Item | Day | Month | Year |\n",
       "|---|---|---|---|---|\n",
       "| KMart | 1     | 01    | 01    | 2017  |\n",
       "| KMart | 1     | 05    | 01    | 2017  |\n",
       "| KMart | 1     | 07    | 01    | 2017  |\n",
       "| KMart | 1     | 08    | 01    | 2017  |\n",
       "| KMart | 1     | 11    | 01    | 2017  |\n",
       "| KMart | 1     | 13    | 01    | 2017  |\n",
       "| KMart | 1     | 14    | 01    | 2017  |\n",
       "| KMart | 1     | 22    | 01    | 2017  |\n",
       "| KMart | 1     | 24    | 01    | 2017  |\n",
       "| KMart | 1     | 27    | 01    | 2017  |\n",
       "\n"
      ],
      "text/plain": [
       "   Store Item Day Month Year\n",
       "1  KMart 1    01  01    2017\n",
       "2  KMart 1    05  01    2017\n",
       "3  KMart 1    07  01    2017\n",
       "4  KMart 1    08  01    2017\n",
       "5  KMart 1    11  01    2017\n",
       "6  KMart 1    13  01    2017\n",
       "7  KMart 1    14  01    2017\n",
       "8  KMart 1    22  01    2017\n",
       "9  KMart 1    24  01    2017\n",
       "10 KMart 1    27  01    2017"
      ]
     },
     "metadata": {},
     "output_type": "display_data"
    }
   ],
   "source": [
    "slice(test1[c(2,3,5,6,7)], 1:10)"
   ]
  },
  {
   "cell_type": "markdown",
   "id": "97fbf269",
   "metadata": {},
   "source": [
    "# Trial 2\n",
    "\n",
    "remove some outliers"
   ]
  },
  {
   "cell_type": "code",
   "execution_count": 14,
   "id": "1043ee79",
   "metadata": {},
   "outputs": [],
   "source": [
    "train2 <- train"
   ]
  },
  {
   "cell_type": "code",
   "execution_count": 15,
   "id": "eef66a4b",
   "metadata": {
    "scrolled": false
   },
   "outputs": [
    {
     "data": {
      "image/png": "[encoded data removed]",
      "text/plain": [
       "plot without title"
      ]
     },
     "metadata": {},
     "output_type": "display_data"
    }
   ],
   "source": [
    "boxplot(train2$Sales)"
   ]
  },
  {
   "cell_type": "code",
   "execution_count": 16,
   "id": "951270a9",
   "metadata": {},
   "outputs": [],
   "source": [
    "outliers <- boxplot.stats(train$Sales)$out\n",
    "train2 <- train[-which(train$Sales %in% outliers),]"
   ]
  },
  {
   "cell_type": "code",
   "execution_count": 17,
   "id": "404c77fb",
   "metadata": {},
   "outputs": [],
   "source": [
    "outliers <- boxplot.stats(train2$Sales)$out\n",
    "train2 <- train2[-which(train2$Sales %in% outliers),]"
   ]
  },
  {
   "cell_type": "code",
   "execution_count": 18,
   "id": "f970bd7e",
   "metadata": {},
   "outputs": [
    {
     "data": {
      "image/png": "[encoded data removed]",
      "text/plain": [
       "plot without title"
      ]
     },
     "metadata": {},
     "output_type": "display_data"
    }
   ],
   "source": [
    "boxplot(train2$Sales)"
   ]
  },
  {
   "cell_type": "code",
   "execution_count": 19,
   "id": "22abc628",
   "metadata": {},
   "outputs": [],
   "source": [
    "## 75% of the sample size\n",
    "smp_size <- floor(0.75 * nrow(train2))\n",
    "\n",
    "## set the seed to make your partition reproducible\n",
    "set.seed(123)\n",
    "train_ind <- sample(seq_len(nrow(train2)), size = smp_size)\n",
    "\n",
    "train2z <- train2[train_ind, ]\n",
    "test2 <- train2[-train_ind, ]"
   ]
  },
  {
   "cell_type": "code",
   "execution_count": 20,
   "id": "520a95ac",
   "metadata": {},
   "outputs": [
    {
     "data": {
      "text/plain": [
       "\n",
       "Call:\n",
       "lm(formula = Sales ~ Store + Item + Month + Year, data = train2z)\n",
       "\n",
       "Residuals:\n",
       "    Min      1Q  Median      3Q     Max \n",
       "-64.604 -17.744  -1.125  16.048  77.216 \n",
       "\n",
       "Coefficients:\n",
       "                      Estimate Std. Error t value Pr(>|t|)    \n",
       "(Intercept)          19.309701   0.148668 129.885   <2e-16 ***\n",
       "StoreAsian SuperMart -3.331665   0.128905 -25.846   <2e-16 ***\n",
       "StoreBig Savers      20.956898   0.130339 160.788   <2e-16 ***\n",
       "StoreBigW             0.097178   0.128924   0.754    0.451    \n",
       "StoreColes           17.800718   0.129586 137.366   <2e-16 ***\n",
       "StoreCostco          14.201981   0.129220 109.905   <2e-16 ***\n",
       "StoreKMart            7.332271   0.128780  56.937   <2e-16 ***\n",
       "StoreSupaIGA         17.313878   0.129492 133.706   <2e-16 ***\n",
       "StoreTarget          22.919231   0.130707 175.348   <2e-16 ***\n",
       "StoreWoolies         14.093397   0.129133 109.139   <2e-16 ***\n",
       "Item                 -0.098137   0.002007 -48.889   <2e-16 ***\n",
       "Month02               3.815806   0.135902  28.078   <2e-16 ***\n",
       "Month03              11.627769   0.132633  87.669   <2e-16 ***\n",
       "Month04              18.487880   0.134248 137.714   <2e-16 ***\n",
       "Month05              21.553422   0.133645 161.273   <2e-16 ***\n",
       "Month06              24.330208   0.135471 179.597   <2e-16 ***\n",
       "Month07              26.812290   0.144362 185.730   <2e-16 ***\n",
       "Month08              21.533186   0.142829 150.762   <2e-16 ***\n",
       "Month09              18.212537   0.143891 126.572   <2e-16 ***\n",
       "Month10              14.986217   0.142265 105.340   <2e-16 ***\n",
       "Month11              18.517738   0.143577 128.974   <2e-16 ***\n",
       "Month12               3.763213   0.141928  26.515   <2e-16 ***\n",
       "Year2018              6.020249   0.086716  69.425   <2e-16 ***\n",
       "Year2019              7.905304   0.086829  91.045   <2e-16 ***\n",
       "Year2020             11.312708   0.087146 129.814   <2e-16 ***\n",
       "Year2021             12.745085   0.111715 114.085   <2e-16 ***\n",
       "---\n",
       "Signif. codes:  0 ‘***’ 0.001 ‘**’ 0.01 ‘*’ 0.05 ‘.’ 0.1 ‘ ’ 1\n",
       "\n",
       "Residual standard error: 22.62 on 605613 degrees of freedom\n",
       "Multiple R-squared:  0.2454,\tAdjusted R-squared:  0.2454 \n",
       "F-statistic:  7880 on 25 and 605613 DF,  p-value: < 2.2e-16\n"
      ]
     },
     "metadata": {},
     "output_type": "display_data"
    }
   ],
   "source": [
    "trial2 <- lm(Sales ~ Store + Item + Month + Year, data = train2z)\n",
    "summary(trial2)"
   ]
  },
  {
   "cell_type": "code",
   "execution_count": 21,
   "id": "d544becf",
   "metadata": {},
   "outputs": [],
   "source": [
    "forecast2 <- predict(trial2, test2)"
   ]
  },
  {
   "cell_type": "code",
   "execution_count": 22,
   "id": "06b095f6",
   "metadata": {},
   "outputs": [
    {
     "data": {
      "text/html": [
       "0.401189696184686"
      ],
      "text/latex": [
       "0.401189696184686"
      ],
      "text/markdown": [
       "0.401189696184686"
      ],
      "text/plain": [
       "[1] 0.4011897"
      ]
     },
     "metadata": {},
     "output_type": "display_data"
    }
   ],
   "source": [
    "smape(test2$Sales, forecast2)"
   ]
  },
  {
   "cell_type": "markdown",
   "id": "38c34804",
   "metadata": {},
   "source": [
    "# Trial 3\n",
    "\n",
    "Normality"
   ]
  },
  {
   "cell_type": "code",
   "execution_count": 23,
   "id": "8a964a41",
   "metadata": {},
   "outputs": [
    {
     "data": {
      "image/png": "[encoded data removed]",
      "text/plain": [
       "Plot with title “Histogram of log(train2$Sales)^3”"
      ]
     },
     "metadata": {},
     "output_type": "display_data"
    }
   ],
   "source": [
    "hist(log(train2$Sales)^3)"
   ]
  },
  {
   "cell_type": "code",
   "execution_count": 24,
   "id": "c3f68264",
   "metadata": {},
   "outputs": [],
   "source": [
    "train3 <- train2\n",
    "train3$Sales <- log(train3$Sales)"
   ]
  },
  {
   "cell_type": "code",
   "execution_count": 25,
   "id": "1018eb35",
   "metadata": {},
   "outputs": [
    {
     "data": {
      "text/plain": [
       "\n",
       "Call:\n",
       "lm(formula = Sales ~ Store + Item + Month + Year, data = train2)\n",
       "\n",
       "Residuals:\n",
       "    Min      1Q  Median      3Q     Max \n",
       "-64.722 -17.753  -1.144  16.052  77.187 \n",
       "\n",
       "Coefficients:\n",
       "                      Estimate Std. Error t value Pr(>|t|)    \n",
       "(Intercept)          19.379208   0.128872 150.376   <2e-16 ***\n",
       "StoreAsian SuperMart -3.299809   0.111661 -29.552   <2e-16 ***\n",
       "StoreBig Savers      21.040150   0.112891 186.376   <2e-16 ***\n",
       "StoreBigW             0.039462   0.111662   0.353    0.724    \n",
       "StoreColes           17.824474   0.112327 158.684   <2e-16 ***\n",
       "StoreCostco          14.237548   0.111977 127.148   <2e-16 ***\n",
       "StoreKMart            7.263694   0.111707  65.024   <2e-16 ***\n",
       "StoreSupaIGA         17.226093   0.112238 153.479   <2e-16 ***\n",
       "StoreTarget          22.952792   0.113298 202.588   <2e-16 ***\n",
       "StoreWoolies         14.155976   0.111952 126.447   <2e-16 ***\n",
       "Item                 -0.099405   0.001739 -57.173   <2e-16 ***\n",
       "Month02               3.817053   0.117749  32.417   <2e-16 ***\n",
       "Month03              11.588174   0.115005 100.762   <2e-16 ***\n",
       "Month04              18.486255   0.116376 158.850   <2e-16 ***\n",
       "Month05              21.643014   0.115776 186.939   <2e-16 ***\n",
       "Month06              24.381841   0.117283 207.888   <2e-16 ***\n",
       "Month07              26.842258   0.125017 214.709   <2e-16 ***\n",
       "Month08              21.582879   0.123838 174.283   <2e-16 ***\n",
       "Month09              18.253568   0.124580 146.520   <2e-16 ***\n",
       "Month10              15.017099   0.123259 121.834   <2e-16 ***\n",
       "Month11              18.548216   0.124578 148.889   <2e-16 ***\n",
       "Month12               3.752084   0.123086  30.484   <2e-16 ***\n",
       "Year2018              5.952562   0.075140  79.220   <2e-16 ***\n",
       "Year2019              7.803018   0.075238 103.711   <2e-16 ***\n",
       "Year2020             11.244322   0.075454 149.022   <2e-16 ***\n",
       "Year2021             12.680469   0.096807 130.987   <2e-16 ***\n",
       "---\n",
       "Signif. codes:  0 ‘***’ 0.001 ‘**’ 0.01 ‘*’ 0.05 ‘.’ 0.1 ‘ ’ 1\n",
       "\n",
       "Residual standard error: 22.62 on 807493 degrees of freedom\n",
       "Multiple R-squared:  0.246,\tAdjusted R-squared:  0.246 \n",
       "F-statistic: 1.054e+04 on 25 and 807493 DF,  p-value: < 2.2e-16\n"
      ]
     },
     "metadata": {},
     "output_type": "display_data"
    }
   ],
   "source": [
    "trial3 <- lm(Sales ~ Store + Item + Month + Year, data = train2)\n",
    "summary(trial3)"
   ]
  },
  {
   "cell_type": "code",
   "execution_count": 26,
   "id": "cbcaf779",
   "metadata": {},
   "outputs": [
    {
     "data": {
      "text/html": [
       "NaN"
      ],
      "text/latex": [
       "NaN"
      ],
      "text/markdown": [
       "NaN"
      ],
      "text/plain": [
       "[1] NaN"
      ]
     },
     "metadata": {},
     "output_type": "display_data"
    }
   ],
   "source": [
    "## 75% of the sample size\n",
    "smp_size <- floor(0.75 * nrow(train3))\n",
    "\n",
    "## set the seed to make your partition reproducible\n",
    "set.seed(123)\n",
    "train_ind <- sample(seq_len(nrow(train3)), size = smp_size)\n",
    "\n",
    "train3z <- train3[train_ind, ]\n",
    "test3 <- train3[-train_ind, ]\n",
    "\n",
    "trial3 <- lm(Sales ~ Store + Item + Month + Year, data = train2)\n",
    "forecast3 <- predict(trial3, test3[c(2,3,6,7)])\n",
    "\n",
    "smape(test3$Sales, forecast3)"
   ]
  },
  {
   "cell_type": "code",
   "execution_count": 27,
   "id": "d7f9872c",
   "metadata": {},
   "outputs": [
    {
     "data": {
      "text/html": [
       "<table>\n",
       "<thead><tr><th scope=col>Date</th><th scope=col>Store</th><th scope=col>Item</th><th scope=col>Sales</th><th scope=col>Day</th><th scope=col>Month</th><th scope=col>Year</th><th scope=col>fStore</th></tr></thead>\n",
       "<tbody>\n",
       "\t<tr><td>2017-01-01</td><td>KMart     </td><td>1         </td><td>2.564949  </td><td>01        </td><td>01        </td><td>2017      </td><td>7         </td></tr>\n",
       "\t<tr><td>2017-01-05</td><td>KMart     </td><td>1         </td><td>2.302585  </td><td>05        </td><td>01        </td><td>2017      </td><td>7         </td></tr>\n",
       "\t<tr><td>2017-01-07</td><td>KMart     </td><td>1         </td><td>2.302585  </td><td>07        </td><td>01        </td><td>2017      </td><td>7         </td></tr>\n",
       "\t<tr><td>2017-01-08</td><td>KMart     </td><td>1         </td><td>2.197225  </td><td>08        </td><td>01        </td><td>2017      </td><td>7         </td></tr>\n",
       "\t<tr><td>2017-01-11</td><td>KMart     </td><td>1         </td><td>2.197225  </td><td>11        </td><td>01        </td><td>2017      </td><td>7         </td></tr>\n",
       "\t<tr><td>2017-01-13</td><td>KMart     </td><td>1         </td><td>2.302585  </td><td>13        </td><td>01        </td><td>2017      </td><td>7         </td></tr>\n",
       "</tbody>\n",
       "</table>\n"
      ],
      "text/latex": [
       "\\begin{tabular}{r|llllllll}\n",
       " Date & Store & Item & Sales & Day & Month & Year & fStore\\\\\n",
       "\\hline\n",
       "\t 2017-01-01 & KMart      & 1          & 2.564949   & 01         & 01         & 2017       & 7         \\\\\n",
       "\t 2017-01-05 & KMart      & 1          & 2.302585   & 05         & 01         & 2017       & 7         \\\\\n",
       "\t 2017-01-07 & KMart      & 1          & 2.302585   & 07         & 01         & 2017       & 7         \\\\\n",
       "\t 2017-01-08 & KMart      & 1          & 2.197225   & 08         & 01         & 2017       & 7         \\\\\n",
       "\t 2017-01-11 & KMart      & 1          & 2.197225   & 11         & 01         & 2017       & 7         \\\\\n",
       "\t 2017-01-13 & KMart      & 1          & 2.302585   & 13         & 01         & 2017       & 7         \\\\\n",
       "\\end{tabular}\n"
      ],
      "text/markdown": [
       "\n",
       "| Date | Store | Item | Sales | Day | Month | Year | fStore |\n",
       "|---|---|---|---|---|---|---|---|\n",
       "| 2017-01-01 | KMart      | 1          | 2.564949   | 01         | 01         | 2017       | 7          |\n",
       "| 2017-01-05 | KMart      | 1          | 2.302585   | 05         | 01         | 2017       | 7          |\n",
       "| 2017-01-07 | KMart      | 1          | 2.302585   | 07         | 01         | 2017       | 7          |\n",
       "| 2017-01-08 | KMart      | 1          | 2.197225   | 08         | 01         | 2017       | 7          |\n",
       "| 2017-01-11 | KMart      | 1          | 2.197225   | 11         | 01         | 2017       | 7          |\n",
       "| 2017-01-13 | KMart      | 1          | 2.302585   | 13         | 01         | 2017       | 7          |\n",
       "\n"
      ],
      "text/plain": [
       "  Date       Store Item Sales    Day Month Year fStore\n",
       "1 2017-01-01 KMart 1    2.564949 01  01    2017 7     \n",
       "2 2017-01-05 KMart 1    2.302585 05  01    2017 7     \n",
       "3 2017-01-07 KMart 1    2.302585 07  01    2017 7     \n",
       "4 2017-01-08 KMart 1    2.197225 08  01    2017 7     \n",
       "5 2017-01-11 KMart 1    2.197225 11  01    2017 7     \n",
       "6 2017-01-13 KMart 1    2.302585 13  01    2017 7     "
      ]
     },
     "metadata": {},
     "output_type": "display_data"
    }
   ],
   "source": [
    "head(test3)"
   ]
  },
  {
   "cell_type": "markdown",
   "id": "18355351",
   "metadata": {},
   "source": [
    "# Trial 4\n",
    "\n",
    "change all to factor ten numeric"
   ]
  },
  {
   "cell_type": "code",
   "execution_count": 50,
   "id": "7a74f3ec",
   "metadata": {},
   "outputs": [],
   "source": [
    "train4 <- train2\n",
    "train4$Year <- factor(train4$Year)\n",
    "train4$Item <- factor(train4$Item)\n",
    "train4$Day <- factor(train4$Day)\n",
    "train4$Month <- factor(train4$Month)\n",
    "train4$Store <- factor(train4$Store)"
   ]
  },
  {
   "cell_type": "code",
   "execution_count": 51,
   "id": "e9f3add0",
   "metadata": {},
   "outputs": [],
   "source": [
    "train4 <- train4[c(2,3,4,5,6,7)]"
   ]
  },
  {
   "cell_type": "code",
   "execution_count": 52,
   "id": "290194e2",
   "metadata": {},
   "outputs": [
    {
     "data": {
      "text/html": [
       "<table>\n",
       "<thead><tr><th scope=col>Store</th><th scope=col>Item</th><th scope=col>Sales</th><th scope=col>Day</th><th scope=col>Month</th><th scope=col>Year</th></tr></thead>\n",
       "<tbody>\n",
       "\t<tr><td>KMart</td><td>1    </td><td>13   </td><td>01   </td><td>01   </td><td>2017 </td></tr>\n",
       "\t<tr><td>KMart</td><td>1    </td><td>11   </td><td>02   </td><td>01   </td><td>2017 </td></tr>\n",
       "\t<tr><td>KMart</td><td>1    </td><td>14   </td><td>03   </td><td>01   </td><td>2017 </td></tr>\n",
       "\t<tr><td>KMart</td><td>1    </td><td>13   </td><td>04   </td><td>01   </td><td>2017 </td></tr>\n",
       "\t<tr><td>KMart</td><td>1    </td><td>10   </td><td>05   </td><td>01   </td><td>2017 </td></tr>\n",
       "\t<tr><td>KMart</td><td>1    </td><td>12   </td><td>06   </td><td>01   </td><td>2017 </td></tr>\n",
       "</tbody>\n",
       "</table>\n"
      ],
      "text/latex": [
       "\\begin{tabular}{r|llllll}\n",
       " Store & Item & Sales & Day & Month & Year\\\\\n",
       "\\hline\n",
       "\t KMart & 1     & 13    & 01    & 01    & 2017 \\\\\n",
       "\t KMart & 1     & 11    & 02    & 01    & 2017 \\\\\n",
       "\t KMart & 1     & 14    & 03    & 01    & 2017 \\\\\n",
       "\t KMart & 1     & 13    & 04    & 01    & 2017 \\\\\n",
       "\t KMart & 1     & 10    & 05    & 01    & 2017 \\\\\n",
       "\t KMart & 1     & 12    & 06    & 01    & 2017 \\\\\n",
       "\\end{tabular}\n"
      ],
      "text/markdown": [
       "\n",
       "| Store | Item | Sales | Day | Month | Year |\n",
       "|---|---|---|---|---|---|\n",
       "| KMart | 1     | 13    | 01    | 01    | 2017  |\n",
       "| KMart | 1     | 11    | 02    | 01    | 2017  |\n",
       "| KMart | 1     | 14    | 03    | 01    | 2017  |\n",
       "| KMart | 1     | 13    | 04    | 01    | 2017  |\n",
       "| KMart | 1     | 10    | 05    | 01    | 2017  |\n",
       "| KMart | 1     | 12    | 06    | 01    | 2017  |\n",
       "\n"
      ],
      "text/plain": [
       "  Store Item Sales Day Month Year\n",
       "1 KMart 1    13    01  01    2017\n",
       "2 KMart 1    11    02  01    2017\n",
       "3 KMart 1    14    03  01    2017\n",
       "4 KMart 1    13    04  01    2017\n",
       "5 KMart 1    10    05  01    2017\n",
       "6 KMart 1    12    06  01    2017"
      ]
     },
     "metadata": {},
     "output_type": "display_data"
    }
   ],
   "source": [
    "head(train4)"
   ]
  },
  {
   "cell_type": "code",
   "execution_count": 54,
   "id": "4e631933",
   "metadata": {},
   "outputs": [
    {
     "data": {
      "text/plain": [
       "\n",
       "Call:\n",
       "lm(formula = Sales ~ ., data = train4)\n",
       "\n",
       "Residuals:\n",
       "    Min      1Q  Median      3Q     Max \n",
       "-46.042  -7.425  -0.503   6.795  55.283 \n",
       "\n",
       "Coefficients:\n",
       "                      Estimate Std. Error  t value Pr(>|t|)    \n",
       "(Intercept)          -13.28593    0.12246 -108.495  < 2e-16 ***\n",
       "StoreAsian SuperMart  -3.30100    0.05409  -61.024  < 2e-16 ***\n",
       "StoreBig Savers       22.20394    0.05470  405.938  < 2e-16 ***\n",
       "StoreBigW              0.03976    0.05409    0.735 0.462367    \n",
       "StoreColes            18.47807    0.05442  339.552  < 2e-16 ***\n",
       "StoreCostco           14.55431    0.05425  268.297  < 2e-16 ***\n",
       "StoreKMart             7.31183    0.05412  135.115  < 2e-16 ***\n",
       "StoreSupaIGA          17.79428    0.05438  327.251  < 2e-16 ***\n",
       "StoreTarget           24.47112    0.05490  445.739  < 2e-16 ***\n",
       "StoreWoolies          14.44678    0.05423  266.374  < 2e-16 ***\n",
       "Item2                 35.82824    0.12099  296.129  < 2e-16 ***\n",
       "Item3                 14.34866    0.12096  118.628  < 2e-16 ***\n",
       "Item4                  0.04056    0.12096    0.335 0.737374    \n",
       "Item5                 -3.55700    0.12096  -29.408  < 2e-16 ***\n",
       "Item6                 35.79029    0.12098  295.825  < 2e-16 ***\n",
       "Item7                 35.78292    0.12099  295.746  < 2e-16 ***\n",
       "Item8                 52.13303    0.12226  426.415  < 2e-16 ***\n",
       "Item9                 28.86706    0.12096  238.655  < 2e-16 ***\n",
       "Item10                49.14736    0.12175  403.668  < 2e-16 ***\n",
       "Item11                46.00851    0.12144  378.853  < 2e-16 ***\n",
       "Item12                46.06082    0.12142  379.349  < 2e-16 ***\n",
       "Item13                57.78380    0.12365  467.321  < 2e-16 ***\n",
       "Item14                35.91101    0.12099  296.814  < 2e-16 ***\n",
       "Item15                60.29051    0.12469  483.530  < 2e-16 ***\n",
       "Item16                 3.60457    0.12096   29.801  < 2e-16 ***\n",
       "Item17                10.81084    0.12096   89.379  < 2e-16 ***\n",
       "Item18                57.72769    0.12365  466.867  < 2e-16 ***\n",
       "Item19                18.00938    0.12096  148.893  < 2e-16 ***\n",
       "Item20                25.04072    0.12096  207.022  < 2e-16 ***\n",
       "Item21                17.96711    0.12096  148.543  < 2e-16 ***\n",
       "Item22                54.97907    0.12282  447.642  < 2e-16 ***\n",
       "Item23                 7.15335    0.12096   59.140  < 2e-16 ***\n",
       "Item24                42.86441    0.12120  353.677  < 2e-16 ***\n",
       "Item25                55.04425    0.12291  447.841  < 2e-16 ***\n",
       "Item26                25.18203    0.12096  208.193  < 2e-16 ***\n",
       "Item27                 0.07302    0.12096    0.604 0.546043    \n",
       "Item28                60.24459    0.12456  483.674  < 2e-16 ***\n",
       "Item29                46.06353    0.12141  379.401  < 2e-16 ***\n",
       "Item30                18.01456    0.12096  148.936  < 2e-16 ***\n",
       "Item31                35.89016    0.12099  296.628  < 2e-16 ***\n",
       "Item32                21.53398    0.12096  178.033  < 2e-16 ***\n",
       "Item33                45.99997    0.12142  378.865  < 2e-16 ***\n",
       "Item34                 3.67205    0.12096   30.359  < 2e-16 ***\n",
       "Item35                42.64506    0.12119  351.899  < 2e-16 ***\n",
       "Item36                52.25817    0.12226  427.447  < 2e-16 ***\n",
       "Item37                 7.13002    0.12096   58.948  < 2e-16 ***\n",
       "Item38                54.93370    0.12287  447.100  < 2e-16 ***\n",
       "Item39                21.45329    0.12096  177.366  < 2e-16 ***\n",
       "Item40                 7.10463    0.12096   58.738  < 2e-16 ***\n",
       "Item41                 0.01462    0.12096    0.121 0.903817    \n",
       "Item42                14.45000    0.12096  119.466  < 2e-16 ***\n",
       "Item43                28.71636    0.12096  237.409  < 2e-16 ***\n",
       "Item44                 7.27119    0.12096   60.115  < 2e-16 ***\n",
       "Item45                54.96970    0.12287  447.385  < 2e-16 ***\n",
       "Item46                35.88064    0.12099  296.558  < 2e-16 ***\n",
       "Item47                 0.01261    0.12096    0.104 0.916991    \n",
       "Item48                28.77354    0.12096  237.882  < 2e-16 ***\n",
       "Item49                 7.21443    0.12096   59.645  < 2e-16 ***\n",
       "Item50                42.72809    0.12119  352.563  < 2e-16 ***\n",
       "Day02                  0.15116    0.09505    1.590 0.111771    \n",
       "Day03                  0.24327    0.09507    2.559 0.010502 *  \n",
       "Day04                  0.17624    0.09505    1.854 0.063720 .  \n",
       "Day05                  0.41079    0.09509    4.320 1.56e-05 ***\n",
       "Day06                  0.33188    0.09502    3.493 0.000478 ***\n",
       "Day07                  0.20259    0.09506    2.131 0.033062 *  \n",
       "Day08                  0.15635    0.09498    1.646 0.099738 .  \n",
       "Day09                  0.04647    0.09506    0.489 0.624983    \n",
       "Day10                  0.21511    0.09508    2.262 0.023675 *  \n",
       "Day11                  0.21204    0.09505    2.231 0.025698 *  \n",
       "Day12                  0.40583    0.09506    4.269 1.96e-05 ***\n",
       "Day13                  0.27391    0.09506    2.882 0.003957 ** \n",
       "Day14                  0.28839    0.09508    3.033 0.002420 ** \n",
       "Day15                  0.06687    0.09500    0.704 0.481503    \n",
       "Day16                  0.13478    0.09505    1.418 0.156207    \n",
       "Day17                  0.23919    0.09509    2.515 0.011891 *  \n",
       "Day18                  0.13341    0.09505    1.404 0.160438    \n",
       "Day19                  0.50393    0.09507    5.301 1.15e-07 ***\n",
       "Day20                  0.28965    0.09504    3.048 0.002307 ** \n",
       "Day21                  0.30899    0.09508    3.250 0.001155 ** \n",
       "Day22                  0.12953    0.09500    1.363 0.172767    \n",
       "Day23                  0.06875    0.09504    0.723 0.469456    \n",
       "Day24                  0.19305    0.09509    2.030 0.042337 *  \n",
       "Day25                  0.13824    0.09508    1.454 0.145980    \n",
       "Day26                  0.51393    0.09506    5.406 6.44e-08 ***\n",
       "Day27                  0.21265    0.09506    2.237 0.025286 *  \n",
       "Day28                  0.24784    0.09508    2.607 0.009144 ** \n",
       "Day29                 -0.18728    0.09697   -1.931 0.053448 .  \n",
       "Day30                  0.07534    0.09759    0.772 0.440107    \n",
       "Day31                  0.94802    0.11186    8.475  < 2e-16 ***\n",
       "Month02                3.82746    0.05720   66.913  < 2e-16 ***\n",
       "Month03               11.66917    0.05571  209.450  < 2e-16 ***\n",
       "Month04               18.97656    0.05645  336.141  < 2e-16 ***\n",
       "Month05               22.43982    0.05609  400.060  < 2e-16 ***\n",
       "Month06               25.65537    0.05690  450.877  < 2e-16 ***\n",
       "Month07               28.44421    0.06058  469.552  < 2e-16 ***\n",
       "Month08               22.30599    0.06000  371.793  < 2e-16 ***\n",
       "Month09               18.69785    0.06042  309.448  < 2e-16 ***\n",
       "Month10               15.27191    0.05971  255.759  < 2e-16 ***\n",
       "Month11               18.98877    0.06042  314.270  < 2e-16 ***\n",
       "Month12                3.85831    0.05963   64.706  < 2e-16 ***\n",
       "Year2018               6.19514    0.03640  170.189  < 2e-16 ***\n",
       "Year2019               8.18469    0.03645  224.547  < 2e-16 ***\n",
       "Year2020              11.98942    0.03656  327.949  < 2e-16 ***\n",
       "Year2021              13.54650    0.04690  288.820  < 2e-16 ***\n",
       "---\n",
       "Signif. codes:  0 ‘***’ 0.001 ‘**’ 0.01 ‘*’ 0.05 ‘.’ 0.1 ‘ ’ 1\n",
       "\n",
       "Residual standard error: 10.96 on 807415 degrees of freedom\n",
       "Multiple R-squared:  0.8231,\tAdjusted R-squared:  0.8231 \n",
       "F-statistic: 3.647e+04 on 103 and 807415 DF,  p-value: < 2.2e-16\n"
      ]
     },
     "metadata": {},
     "output_type": "display_data"
    }
   ],
   "source": [
    "null <- lm(Sales ~ 1, data = train4)\n",
    "trial4 <- lm(Sales ~ ., data = train4)\n",
    "summary(trial4)"
   ]
  },
  {
   "cell_type": "code",
   "execution_count": 55,
   "id": "d37fafca",
   "metadata": {},
   "outputs": [
    {
     "data": {
      "text/html": [
       "6159719.17012622"
      ],
      "text/latex": [
       "6159719.17012622"
      ],
      "text/markdown": [
       "6159719.17012622"
      ],
      "text/plain": [
       "[1] 6159719"
      ]
     },
     "metadata": {},
     "output_type": "display_data"
    }
   ],
   "source": [
    "BIC(trial4)"
   ]
  },
  {
   "cell_type": "code",
   "execution_count": 56,
   "id": "0d242207",
   "metadata": {},
   "outputs": [
    {
     "name": "stdout",
     "output_type": "stream",
     "text": [
      "Start:  AIC=3866859\n",
      "Sales ~ Store + Item + Day + Month + Year\n",
      "\n",
      "        Df Sum of Sq       RSS     AIC\n",
      "<none>                96981608 3866859\n",
      "- Day   30     24216  97005823 3867001\n",
      "- Year   4  16991568 113973176 3997219\n",
      "- Month 11  63086694 160068301 4271468\n",
      "- Store  9  71581134 168562741 4313227\n",
      "- Item  49 317954261 414935869 5040573\n"
     ]
    },
    {
     "data": {
      "text/plain": [
       "\n",
       "Call:\n",
       "lm(formula = Sales ~ Store + Item + Day + Month + Year, data = train4)\n",
       "\n",
       "Coefficients:\n",
       "         (Intercept)  StoreAsian SuperMart       StoreBig Savers  \n",
       "           -13.28593              -3.30100              22.20394  \n",
       "           StoreBigW            StoreColes           StoreCostco  \n",
       "             0.03976              18.47807              14.55431  \n",
       "          StoreKMart          StoreSupaIGA           StoreTarget  \n",
       "             7.31183              17.79428              24.47112  \n",
       "        StoreWoolies                 Item2                 Item3  \n",
       "            14.44678              35.82824              14.34866  \n",
       "               Item4                 Item5                 Item6  \n",
       "             0.04056              -3.55700              35.79029  \n",
       "               Item7                 Item8                 Item9  \n",
       "            35.78292              52.13303              28.86706  \n",
       "              Item10                Item11                Item12  \n",
       "            49.14736              46.00851              46.06082  \n",
       "              Item13                Item14                Item15  \n",
       "            57.78380              35.91101              60.29051  \n",
       "              Item16                Item17                Item18  \n",
       "             3.60457              10.81084              57.72769  \n",
       "              Item19                Item20                Item21  \n",
       "            18.00938              25.04072              17.96711  \n",
       "              Item22                Item23                Item24  \n",
       "            54.97907               7.15335              42.86441  \n",
       "              Item25                Item26                Item27  \n",
       "            55.04425              25.18203               0.07302  \n",
       "              Item28                Item29                Item30  \n",
       "            60.24459              46.06353              18.01456  \n",
       "              Item31                Item32                Item33  \n",
       "            35.89016              21.53398              45.99997  \n",
       "              Item34                Item35                Item36  \n",
       "             3.67205              42.64506              52.25817  \n",
       "              Item37                Item38                Item39  \n",
       "             7.13002              54.93370              21.45329  \n",
       "              Item40                Item41                Item42  \n",
       "             7.10463               0.01462              14.45000  \n",
       "              Item43                Item44                Item45  \n",
       "            28.71636               7.27119              54.96970  \n",
       "              Item46                Item47                Item48  \n",
       "            35.88064               0.01261              28.77354  \n",
       "              Item49                Item50                 Day02  \n",
       "             7.21443              42.72809               0.15116  \n",
       "               Day03                 Day04                 Day05  \n",
       "             0.24327               0.17624               0.41079  \n",
       "               Day06                 Day07                 Day08  \n",
       "             0.33188               0.20259               0.15635  \n",
       "               Day09                 Day10                 Day11  \n",
       "             0.04647               0.21511               0.21204  \n",
       "               Day12                 Day13                 Day14  \n",
       "             0.40583               0.27391               0.28839  \n",
       "               Day15                 Day16                 Day17  \n",
       "             0.06687               0.13478               0.23919  \n",
       "               Day18                 Day19                 Day20  \n",
       "             0.13341               0.50393               0.28965  \n",
       "               Day21                 Day22                 Day23  \n",
       "             0.30899               0.12953               0.06875  \n",
       "               Day24                 Day25                 Day26  \n",
       "             0.19305               0.13824               0.51393  \n",
       "               Day27                 Day28                 Day29  \n",
       "             0.21265               0.24784              -0.18728  \n",
       "               Day30                 Day31               Month02  \n",
       "             0.07534               0.94802               3.82746  \n",
       "             Month03               Month04               Month05  \n",
       "            11.66917              18.97656              22.43982  \n",
       "             Month06               Month07               Month08  \n",
       "            25.65537              28.44421              22.30599  \n",
       "             Month09               Month10               Month11  \n",
       "            18.69785              15.27191              18.98877  \n",
       "             Month12              Year2018              Year2019  \n",
       "             3.85831               6.19514               8.18469  \n",
       "            Year2020              Year2021  \n",
       "            11.98942              13.54650  \n"
      ]
     },
     "metadata": {},
     "output_type": "display_data"
    }
   ],
   "source": [
    "step(trial4, scope = list(lower=null,upper=trial4),\n",
    "     direction=\"both\", criterion = \"BIC\")"
   ]
  },
  {
   "cell_type": "code",
   "execution_count": 66,
   "id": "2312d4f3",
   "metadata": {},
   "outputs": [
    {
     "data": {
      "text/html": [
       "0.231239752459098"
      ],
      "text/latex": [
       "0.231239752459098"
      ],
      "text/markdown": [
       "0.231239752459098"
      ],
      "text/plain": [
       "[1] 0.2312398"
      ]
     },
     "metadata": {},
     "output_type": "display_data"
    }
   ],
   "source": [
    "## 75% of the sample size\n",
    "smp_size <- floor(0.75 * nrow(train4))\n",
    "\n",
    "## set the seed to make your partition reproducible\n",
    "set.seed(123)\n",
    "train_ind <- sample(seq_len(nrow(train4)), size = smp_size)\n",
    "\n",
    "train4z <- train4[train_ind, ]\n",
    "test4 <- train4[-train_ind, ]\n",
    "\n",
    "trial4x <- lm(Sales ~ Store + Item + Day + Month + Year, data = train4z)\n",
    "forecast4 <- predict(trial4x, test4)\n",
    "\n",
    "smape(test4$Sales, forecast4)"
   ]
  },
  {
   "cell_type": "code",
   "execution_count": 60,
   "id": "f88f49a8",
   "metadata": {},
   "outputs": [
    {
     "data": {
      "text/html": [
       "<dl class=dl-horizontal>\n",
       "\t<dt>1</dt>\n",
       "\t\t<dd>-6.03159609483396</dd>\n",
       "\t<dt>2</dt>\n",
       "\t\t<dd>-5.65940850483017</dd>\n",
       "\t<dt>3</dt>\n",
       "\t\t<dd>-5.73418734337022</dd>\n",
       "\t<dt>4</dt>\n",
       "\t\t<dd>-5.90420300641854</dd>\n",
       "\t<dt>5</dt>\n",
       "\t\t<dd>-5.80953351285667</dd>\n",
       "\t<dt>6</dt>\n",
       "\t\t<dd>-5.74377555440446</dd>\n",
       "</dl>\n"
      ],
      "text/latex": [
       "\\begin{description*}\n",
       "\\item[1] -6.03159609483396\n",
       "\\item[2] -5.65940850483017\n",
       "\\item[3] -5.73418734337022\n",
       "\\item[4] -5.90420300641854\n",
       "\\item[5] -5.80953351285667\n",
       "\\item[6] -5.74377555440446\n",
       "\\end{description*}\n"
      ],
      "text/markdown": [
       "1\n",
       ":   -6.031596094833962\n",
       ":   -5.659408504830173\n",
       ":   -5.734187343370224\n",
       ":   -5.904203006418545\n",
       ":   -5.809533512856676\n",
       ":   -5.74377555440446\n",
       "\n"
      ],
      "text/plain": [
       "        1         2         3         4         5         6 \n",
       "-6.031596 -5.659409 -5.734187 -5.904203 -5.809534 -5.743776 "
      ]
     },
     "metadata": {},
     "output_type": "display_data"
    }
   ],
   "source": [
    "head(forecast4)"
   ]
  },
  {
   "cell_type": "markdown",
   "id": "b504d8f8",
   "metadata": {},
   "source": [
    "# Trial 5\n",
    "\n",
    "Try to log Sales again"
   ]
  },
  {
   "cell_type": "code",
   "execution_count": 62,
   "id": "682a4359",
   "metadata": {},
   "outputs": [],
   "source": [
    "train5 <- train4\n",
    "train5$Sales <- log(train5$Sales)^3"
   ]
  },
  {
   "cell_type": "code",
   "execution_count": 71,
   "id": "2a492ca9",
   "metadata": {},
   "outputs": [
    {
     "data": {
      "text/html": [
       "NaN"
      ],
      "text/latex": [
       "NaN"
      ],
      "text/markdown": [
       "NaN"
      ],
      "text/plain": [
       "[1] NaN"
      ]
     },
     "metadata": {},
     "output_type": "display_data"
    }
   ],
   "source": [
    "## 75% of the sample size\n",
    "smp_size <- floor(0.75 * nrow(train5))\n",
    "\n",
    "## set the seed to make your partition reproducible\n",
    "set.seed(123)\n",
    "train_ind <- sample(seq_len(nrow(train5)), size = smp_size)\n",
    "\n",
    "train5z <- train5[train_ind, ]\n",
    "test5 <- train5[-train_ind, ]\n",
    "a_sale <- train4[-train_ind, ]\n",
    "\n",
    "trial5x <- lm(Sales ~ Store + Item + Day + Month + Year, data = train5z)\n",
    "forecast5 <- predict(trial5x, test5)\n",
    "\n",
    "smape(test5$Sales, forecast5)"
   ]
  },
  {
   "cell_type": "markdown",
   "id": "729e394c",
   "metadata": {},
   "source": [
    "Clearly doesn't work"
   ]
  },
  {
   "cell_type": "markdown",
   "id": "4ddae57a",
   "metadata": {},
   "source": [
    "# Trial 6\n",
    "\n",
    "Trying steps from https://www.scribbr.com/statistics/linear-regression-in-r/"
   ]
  },
  {
   "cell_type": "code",
   "execution_count": 75,
   "id": "ea397506",
   "metadata": {},
   "outputs": [
    {
     "data": {
      "image/png": "[encoded data removed]",
      "text/plain": [
       "Plot with title “”"
      ]
     },
     "metadata": {},
     "output_type": "display_data"
    }
   ],
   "source": [
    "par(mfrow=c(2,2))\n",
    "plot(trial4)\n",
    "par(mfrow=c(1,1))"
   ]
  },
  {
   "cell_type": "markdown",
   "id": "cbb3c2f0",
   "metadata": {},
   "source": [
    "Rounding Data"
   ]
  },
  {
   "cell_type": "code",
   "execution_count": 76,
   "id": "5345c0e7",
   "metadata": {},
   "outputs": [
    {
     "data": {
      "text/html": [
       "0.231239814989587"
      ],
      "text/latex": [
       "0.231239814989587"
      ],
      "text/markdown": [
       "0.231239814989587"
      ],
      "text/plain": [
       "[1] 0.2312398"
      ]
     },
     "metadata": {},
     "output_type": "display_data"
    }
   ],
   "source": [
    "## 75% of the sample size\n",
    "smp_size <- floor(0.75 * nrow(train4))\n",
    "\n",
    "## set the seed to make your partition reproducible\n",
    "set.seed(123)\n",
    "train_ind <- sample(seq_len(nrow(train4)), size = smp_size)\n",
    "\n",
    "train6z <- train4[train_ind, ]\n",
    "test6 <- train4[-train_ind, ]\n",
    "\n",
    "trial6x <- lm(Sales ~ Store + Item + Day + Month + Year, data = train6z)\n",
    "forecast6 <- predict(trial6x, test6)\n",
    "\n",
    "smape(test6$Sales, round(forecast6,2))"
   ]
  },
  {
   "cell_type": "code",
   "execution_count": null,
   "id": "7fc5dce1",
   "metadata": {},
   "outputs": [],
   "source": []
  }
 ],
 "metadata": {
  "kernelspec": {
   "display_name": "R",
   "language": "R",
   "name": "ir"
  },
  "language_info": {
   "codemirror_mode": "r",
   "file_extension": ".r",
   "mimetype": "text/x-r-source",
   "name": "R",
   "pygments_lexer": "r",
   "version": "3.6.1"
  }
 },
 "nbformat": 4,
 "nbformat_minor": 5
}
