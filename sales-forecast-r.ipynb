{
 "cells": [
  {
   "cell_type": "markdown",
   "id": "3b991a0b",
   "metadata": {},
   "source": [
    "# Import Libraries"
   ]
  },
  {
   "cell_type": "code",
   "execution_count": 8,
   "id": "6099db03",
   "metadata": {},
   "outputs": [
    {
     "name": "stderr",
     "output_type": "stream",
     "text": [
      "also installing the dependencies ‘isoband’, ‘vroom’, ‘tzdb’, ‘broom’, ‘ggplot2’, ‘haven’, ‘lubridate’, ‘readr’, ‘tidyr’\n",
      "\n",
      "Warning message in install.packages(\"tidyverse\", repos = \"http://cran.us.r-project.org\"):\n",
      "“installation of package ‘isoband’ had non-zero exit status”Warning message in install.packages(\"tidyverse\", repos = \"http://cran.us.r-project.org\"):\n",
      "“installation of package ‘tzdb’ had non-zero exit status”Warning message in install.packages(\"tidyverse\", repos = \"http://cran.us.r-project.org\"):\n",
      "“installation of package ‘lubridate’ had non-zero exit status”Warning message in install.packages(\"tidyverse\", repos = \"http://cran.us.r-project.org\"):\n",
      "“installation of package ‘tidyr’ had non-zero exit status”Warning message in install.packages(\"tidyverse\", repos = \"http://cran.us.r-project.org\"):\n",
      "“installation of package ‘vroom’ had non-zero exit status”Warning message in install.packages(\"tidyverse\", repos = \"http://cran.us.r-project.org\"):\n",
      "“installation of package ‘broom’ had non-zero exit status”Warning message in install.packages(\"tidyverse\", repos = \"http://cran.us.r-project.org\"):\n",
      "“installation of package ‘ggplot2’ had non-zero exit status”Warning message in install.packages(\"tidyverse\", repos = \"http://cran.us.r-project.org\"):\n",
      "“installation of package ‘readr’ had non-zero exit status”Warning message in install.packages(\"tidyverse\", repos = \"http://cran.us.r-project.org\"):\n",
      "“installation of package ‘haven’ had non-zero exit status”Warning message in install.packages(\"tidyverse\", repos = \"http://cran.us.r-project.org\"):\n",
      "“installation of package ‘tidyverse’ had non-zero exit status”Updating HTML index of packages in '.Library'\n",
      "Making 'packages.html' ... done\n"
     ]
    }
   ],
   "source": [
    "install.packages(\"tidyverse\", repos='http://cran.us.r-project.org')"
   ]
  },
  {
   "cell_type": "code",
   "execution_count": 6,
   "id": "0d18ded3",
   "metadata": {},
   "outputs": [
    {
     "name": "stderr",
     "output_type": "stream",
     "text": [
      "Removing package from ‘/Users/devlish/opt/anaconda3/envs/Tartarus/lib/R/library’\n",
      "(as ‘lib’ is unspecified)\n"
     ]
    },
    {
     "ename": "ERROR",
     "evalue": "Error in find.package(pkgs, lib): there is no package called ‘tidyverse’\n",
     "output_type": "error",
     "traceback": [
      "Error in find.package(pkgs, lib): there is no package called ‘tidyverse’\nTraceback:\n",
      "1. remove.packages(\"tidyverse\")",
      "2. find.package(pkgs, lib)"
     ]
    }
   ],
   "source": [
    "remove.packages(\"tidyverse\")"
   ]
  },
  {
   "cell_type": "code",
   "execution_count": 9,
   "id": "f2911ea3",
   "metadata": {},
   "outputs": [
    {
     "ename": "ERROR",
     "evalue": "Error in library(\"tidyverse\"): there is no package called ‘tidyverse’\n",
     "output_type": "error",
     "traceback": [
      "Error in library(\"tidyverse\"): there is no package called ‘tidyverse’\nTraceback:\n",
      "1. library(\"tidyverse\")"
     ]
    }
   ],
   "source": [
    "library(\"tidyverse\")"
   ]
  },
  {
   "cell_type": "markdown",
   "id": "1fbfd500",
   "metadata": {},
   "source": [
    "# Import Files"
   ]
  },
  {
   "cell_type": "code",
   "execution_count": 1,
   "id": "98b843ab",
   "metadata": {},
   "outputs": [
    {
     "ename": "ERROR",
     "evalue": "Error in read_csv(\"data/test.csv\"): could not find function \"read_csv\"\n",
     "output_type": "error",
     "traceback": [
      "Error in read_csv(\"data/test.csv\"): could not find function \"read_csv\"\nTraceback:\n"
     ]
    }
   ],
   "source": [
    "test = read_csv(\"data/test.csv\")\n",
    "train = read_csv(\"data/train.csv\")\n",
    "sample = read_csv(\"data/sample_submission.csv\")"
   ]
  },
  {
   "cell_type": "markdown",
   "id": "37967cb8",
   "metadata": {},
   "source": []
  }
 ],
 "metadata": {
  "kernelspec": {
   "display_name": "R",
   "language": "R",
   "name": "ir"
  },
  "language_info": {
   "codemirror_mode": "r",
   "file_extension": ".r",
   "mimetype": "text/x-r-source",
   "name": "R",
   "pygments_lexer": "r",
   "version": "3.6.1"
  }
 },
 "nbformat": 4,
 "nbformat_minor": 5
}
